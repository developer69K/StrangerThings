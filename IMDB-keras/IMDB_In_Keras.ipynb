{
 "cells": [
  {
   "cell_type": "markdown",
   "metadata": {},
   "source": [
    "# Analyzing IMDB Data in Keras"
   ]
  },
  {
   "cell_type": "code",
   "execution_count": 1,
   "metadata": {},
   "outputs": [
    {
     "name": "stderr",
     "output_type": "stream",
     "text": [
      "Using TensorFlow backend.\n"
     ]
    }
   ],
   "source": [
    "# Imports\n",
    "import numpy as np\n",
    "import keras\n",
    "from keras.datasets import imdb\n",
    "from keras.models import Sequential\n",
    "from keras.layers import Dense, Dropout, Activation\n",
    "from keras.preprocessing.text import Tokenizer\n",
    "import matplotlib.pyplot as plt\n",
    "%matplotlib inline\n",
    "\n",
    "np.random.seed(42)"
   ]
  },
  {
   "cell_type": "markdown",
   "metadata": {},
   "source": [
    "## 1. Loading the data\n",
    "This dataset comes preloaded with Keras, so one simple command will get us training and testing data. There is a parameter for how many words we want to look at. We've set it at 1000, but feel free to experiment."
   ]
  },
  {
   "cell_type": "code",
   "execution_count": 26,
   "metadata": {},
   "outputs": [
    {
     "name": "stdout",
     "output_type": "stream",
     "text": [
      "(25000,)\n",
      "(25000,)\n",
      "(25000,)\n",
      "(25000,)\n"
     ]
    }
   ],
   "source": [
    "# Loading the data (it's preloaded in Keras)\n",
    "(x_train, y_train), (x_test, y_test) = imdb.load_data(num_words=1000)\n",
    "\n",
    "print(x_train.shape)\n",
    "print(x_test.shape)\n",
    "print(y_train.shape)\n",
    "print(y_test.shape)"
   ]
  },
  {
   "cell_type": "markdown",
   "metadata": {},
   "source": [
    "## 2. Examining the data\n",
    "Notice that the data has been already pre-processed, where all the words have numbers, and the reviews come in as a vector with the words that the review contains. For example, if the word 'the' is the first one in our dictionary, and a review contains the word 'the', then there is a 1 in the corresponding vector.\n",
    "\n",
    "The output comes as a vector of 1's and 0's, where 1 is a positive sentiment for the review, and 0 is negative."
   ]
  },
  {
   "cell_type": "code",
   "execution_count": 27,
   "metadata": {},
   "outputs": [
    {
     "name": "stdout",
     "output_type": "stream",
     "text": [
      "[1, 14, 22, 16, 43, 530, 973, 2, 2, 65, 458, 2, 66, 2, 4, 173, 36, 256, 5, 25, 100, 43, 838, 112, 50, 670, 2, 9, 35, 480, 284, 5, 150, 4, 172, 112, 167, 2, 336, 385, 39, 4, 172, 2, 2, 17, 546, 38, 13, 447, 4, 192, 50, 16, 6, 147, 2, 19, 14, 22, 4, 2, 2, 469, 4, 22, 71, 87, 12, 16, 43, 530, 38, 76, 15, 13, 2, 4, 22, 17, 515, 17, 12, 16, 626, 18, 2, 5, 62, 386, 12, 8, 316, 8, 106, 5, 4, 2, 2, 16, 480, 66, 2, 33, 4, 130, 12, 16, 38, 619, 5, 25, 124, 51, 36, 135, 48, 25, 2, 33, 6, 22, 12, 215, 28, 77, 52, 5, 14, 407, 16, 82, 2, 8, 4, 107, 117, 2, 15, 256, 4, 2, 7, 2, 5, 723, 36, 71, 43, 530, 476, 26, 400, 317, 46, 7, 4, 2, 2, 13, 104, 88, 4, 381, 15, 297, 98, 32, 2, 56, 26, 141, 6, 194, 2, 18, 4, 226, 22, 21, 134, 476, 26, 480, 5, 144, 30, 2, 18, 51, 36, 28, 224, 92, 25, 104, 4, 226, 65, 16, 38, 2, 88, 12, 16, 283, 5, 16, 2, 113, 103, 32, 15, 16, 2, 19, 178, 32]\n",
      "1\n"
     ]
    }
   ],
   "source": [
    "print(x_train[0]) \n",
    "print(y_train[0])"
   ]
  },
  {
   "cell_type": "markdown",
   "metadata": {},
   "source": [
    "+ The above is a word2index, so 1 means first one , 14 means 14th one in the dictionary"
   ]
  },
  {
   "cell_type": "markdown",
   "metadata": {},
   "source": [
    "## 3. One-hot encoding the output\n",
    "Here, we'll turn the input vectors into (0,1)-vectors. For example, if the pre-processed vector contains the number 14, then in the processed vector, the 14th entry will be 1."
   ]
  },
  {
   "cell_type": "code",
   "execution_count": 28,
   "metadata": {},
   "outputs": [
    {
     "name": "stdout",
     "output_type": "stream",
     "text": [
      "[ 0.  1.  1.  0.  1.  1.  1.  1.  1.  1.  0.  0.  1.  1.  1.  1.  1.  1.\n",
      "  1.  1.  0.  1.  1.  0.  0.  1.  1.  0.  1.  0.  1.  0.  1.  1.  0.  1.\n",
      "  1.  0.  1.  1.  0.  0.  0.  1.  0.  0.  1.  0.  1.  0.  1.  1.  1.  0.\n",
      "  0.  0.  1.  0.  0.  0.  0.  0.  1.  0.  0.  1.  1.  0.  0.  0.  0.  1.\n",
      "  0.  0.  0.  0.  1.  1.  0.  0.  0.  0.  1.  0.  0.  0.  0.  1.  1.  0.\n",
      "  0.  0.  1.  0.  0.  0.  0.  0.  1.  0.  1.  0.  0.  1.  1.  0.  1.  1.\n",
      "  0.  0.  0.  0.  1.  1.  0.  0.  0.  1.  0.  0.  0.  0.  0.  0.  1.  0.\n",
      "  0.  0.  0.  0.  1.  0.  0.  0.  1.  1.  0.  0.  0.  0.  0.  1.  0.  0.\n",
      "  1.  0.  0.  1.  0.  0.  1.  0.  0.  0.  0.  0.  0.  0.  0.  0.  0.  0.\n",
      "  0.  0.  0.  0.  0.  1.  0.  0.  0.  0.  1.  1.  0.  0.  0.  0.  1.  0.\n",
      "  0.  0.  0.  0.  0.  0.  0.  0.  0.  0.  0.  0.  1.  0.  1.  0.  0.  0.\n",
      "  0.  0.  0.  0.  0.  0.  0.  0.  0.  0.  0.  0.  0.  0.  0.  0.  0.  1.\n",
      "  0.  0.  0.  0.  0.  0.  0.  0.  1.  0.  1.  0.  0.  0.  0.  0.  0.  0.\n",
      "  0.  0.  0.  0.  0.  0.  0.  0.  0.  0.  0.  0.  0.  0.  0.  0.  0.  0.\n",
      "  0.  0.  0.  0.  1.  0.  0.  0.  0.  0.  0.  0.  0.  0.  0.  0.  0.  0.\n",
      "  0.  0.  0.  0.  0.  0.  0.  0.  0.  0.  0.  0.  0.  1.  1.  0.  0.  0.\n",
      "  0.  0.  0.  0.  0.  0.  0.  0.  0.  1.  0.  0.  0.  0.  0.  0.  0.  0.\n",
      "  0.  0.  0.  0.  0.  0.  0.  0.  0.  0.  1.  1.  0.  0.  0.  0.  0.  0.\n",
      "  0.  0.  0.  0.  0.  0.  0.  0.  0.  0.  0.  0.  1.  0.  0.  0.  0.  0.\n",
      "  0.  0.  0.  0.  0.  0.  0.  0.  0.  0.  0.  0.  0.  0.  0.  0.  0.  0.\n",
      "  0.  0.  0.  0.  0.  0.  0.  0.  0.  0.  0.  0.  0.  0.  0.  0.  0.  0.\n",
      "  0.  0.  0.  1.  0.  0.  0.  1.  1.  0.  0.  0.  0.  0.  0.  0.  0.  0.\n",
      "  0.  0.  0.  0.  1.  0.  0.  0.  0.  0.  0.  1.  0.  0.  0.  0.  0.  0.\n",
      "  0.  0.  0.  0.  0.  0.  0.  0.  0.  0.  0.  0.  0.  0.  0.  0.  0.  0.\n",
      "  0.  0.  0.  0.  0.  0.  0.  0.  0.  0.  0.  0.  0.  0.  0.  1.  0.  0.\n",
      "  0.  0.  0.  0.  0.  0.  0.  0.  1.  0.  0.  0.  0.  0.  0.  0.  0.  0.\n",
      "  0.  1.  0.  0.  0.  0.  0.  0.  1.  0.  0.  0.  1.  0.  0.  0.  0.  0.\n",
      "  0.  0.  0.  0.  0.  0.  0.  0.  0.  0.  0.  0.  0.  0.  0.  0.  0.  0.\n",
      "  0.  0.  0.  0.  0.  0.  0.  0.  0.  0.  0.  1.  0.  0.  0.  0.  0.  0.\n",
      "  0.  0.  0.  0.  0.  0.  0.  0.  1.  0.  0.  0.  0.  0.  0.  0.  0.  0.\n",
      "  0.  0.  0.  0.  0.  0.  1.  0.  0.  0.  0.  0.  0.  0.  0.  0.  0.  0.\n",
      "  0.  0.  0.  0.  0.  0.  0.  0.  0.  0.  0.  0.  0.  0.  0.  0.  0.  0.\n",
      "  0.  0.  0.  0.  0.  0.  0.  0.  0.  0.  0.  0.  0.  0.  0.  0.  0.  0.\n",
      "  0.  0.  0.  0.  0.  0.  0.  0.  0.  0.  0.  0.  0.  0.  0.  0.  0.  0.\n",
      "  0.  0.  0.  0.  0.  0.  0.  1.  0.  0.  0.  0.  0.  0.  1.  0.  0.  0.\n",
      "  0.  0.  0.  0.  0.  0.  0.  0.  0.  0.  0.  0.  0.  0.  0.  0.  0.  0.\n",
      "  0.  0.  0.  0.  0.  0.  0.  0.  0.  0.  0.  0.  0.  0.  0.  0.  0.  0.\n",
      "  0.  0.  0.  0.  1.  0.  0.  0.  0.  0.  0.  0.  0.  0.  0.  0.  0.  0.\n",
      "  0.  0.  0.  0.  0.  0.  0.  0.  0.  0.  0.  0.  0.  0.  0.  0.  0.  0.\n",
      "  0.  0.  0.  0.  0.  0.  0.  0.  0.  0.  0.  0.  0.  0.  0.  0.  0.  0.\n",
      "  0.  0.  0.  1.  0.  0.  0.  0.  0.  0.  0.  0.  0.  0.  0.  0.  0.  0.\n",
      "  0.  0.  0.  0.  0.  0.  0.  0.  0.  0.  0.  0.  0.  0.  0.  0.  0.  0.\n",
      "  0.  0.  0.  0.  0.  0.  0.  0.  0.  0.  0.  0.  0.  0.  0.  0.  0.  0.\n",
      "  0.  0.  0.  0.  0.  0.  0.  0.  0.  0.  0.  0.  0.  0.  0.  0.  0.  0.\n",
      "  0.  0.  0.  0.  0.  0.  0.  0.  0.  0.  0.  0.  0.  0.  0.  0.  0.  0.\n",
      "  0.  0.  0.  0.  0.  0.  0.  0.  0.  0.  0.  0.  0.  0.  0.  0.  0.  0.\n",
      "  0.  0.  0.  0.  0.  0.  0.  0.  0.  0.  1.  0.  0.  0.  0.  0.  0.  0.\n",
      "  0.  0.  0.  0.  0.  0.  0.  0.  0.  0.  0.  0.  0.  0.  0.  0.  0.  0.\n",
      "  0.  0.  0.  0.  0.  0.  0.  0.  0.  0.  0.  0.  0.  0.  0.  0.  0.  0.\n",
      "  0.  0.  0.  0.  0.  0.  0.  0.  0.  0.  0.  0.  0.  0.  0.  0.  0.  0.\n",
      "  0.  0.  0.  0.  0.  0.  0.  0.  0.  0.  0.  0.  0.  0.  0.  0.  0.  0.\n",
      "  0.  0.  0.  0.  0.  0.  0.  0.  0.  0.  0.  0.  0.  0.  0.  0.  0.  0.\n",
      "  0.  0.  0.  0.  0.  0.  0.  0.  0.  0.  0.  0.  0.  0.  0.  0.  0.  0.\n",
      "  0.  0.  0.  0.  0.  0.  0.  0.  0.  0.  0.  0.  0.  0.  0.  0.  0.  0.\n",
      "  0.  1.  0.  0.  0.  0.  0.  0.  0.  0.  0.  0.  0.  0.  0.  0.  0.  0.\n",
      "  0.  0.  0.  0.  0.  0.  0.  0.  0.  0.]\n"
     ]
    }
   ],
   "source": [
    "# One-hot encoding the output into vector mode, each of length 1000\n",
    "tokenizer = Tokenizer(num_words=1000)\n",
    "x_train = tokenizer.sequences_to_matrix(x_train, mode='binary')\n",
    "x_test = tokenizer.sequences_to_matrix(x_test, mode='binary')\n",
    "print(x_train[0])"
   ]
  },
  {
   "cell_type": "markdown",
   "metadata": {},
   "source": [
    "And we'll also one-hot encode the output."
   ]
  },
  {
   "cell_type": "code",
   "execution_count": 29,
   "metadata": {},
   "outputs": [
    {
     "name": "stdout",
     "output_type": "stream",
     "text": [
      "(25000, 2)\n",
      "(25000, 2)\n",
      "[[ 0.  1.]\n",
      " [ 1.  0.]\n",
      " [ 1.  0.]\n",
      " [ 0.  1.]\n",
      " [ 1.  0.]\n",
      " [ 1.  0.]\n",
      " [ 0.  1.]\n",
      " [ 1.  0.]\n",
      " [ 0.  1.]\n",
      " [ 1.  0.]]\n",
      "[[ 0.  1.]\n",
      " [ 0.  1.]\n",
      " [ 0.  1.]\n",
      " [ 0.  1.]\n",
      " [ 0.  1.]\n",
      " [ 1.  0.]\n",
      " [ 1.  0.]\n",
      " [ 1.  0.]\n",
      " [ 0.  1.]\n",
      " [ 0.  1.]]\n"
     ]
    }
   ],
   "source": [
    "# One-hot encoding the output\n",
    "num_classes = 2\n",
    "y_train = keras.utils.to_categorical(y_train, num_classes)\n",
    "y_test = keras.utils.to_categorical(y_test, num_classes)\n",
    "print(y_train.shape)\n",
    "print(y_test.shape)\n",
    "print(y_train[:10])\n",
    "print(y_test[:10])"
   ]
  },
  {
   "cell_type": "code",
   "execution_count": 30,
   "metadata": {},
   "outputs": [
    {
     "data": {
      "text/plain": [
       "25000"
      ]
     },
     "execution_count": 30,
     "metadata": {},
     "output_type": "execute_result"
    }
   ],
   "source": [
    "x_train.shape[0]"
   ]
  },
  {
   "cell_type": "markdown",
   "metadata": {},
   "source": [
    "## 4. Building the  model architecture\n",
    "Build a model here using sequential. Feel free to experiment with different layers and sizes! Also, experiment adding dropout to reduce overfitting."
   ]
  },
  {
   "cell_type": "code",
   "execution_count": 45,
   "metadata": {},
   "outputs": [],
   "source": [
    "# TODO: Build the model architecture\n",
    "model = Sequential()\n",
    "model.add(Dense(128, activation='relu',input_shape=(1000,)))    \n",
    "model.add(Dropout(.4)) # 20% Random Dropout for reducing Overfitting to the training set\n",
    "model.add(Dense(64,activation='relu'))\n",
    "model.add(Dropout(.4))\n",
    "model.add(Dense(2, activation='softmax'))\n",
    "\n",
    "# TODO: Compile the model using a loss function and an optimizer.\n",
    "model.compile(optimizer='adam',\n",
    "             loss='categorical_crossentropy',\n",
    "             metrics=['accuracy']) \n"
   ]
  },
  {
   "cell_type": "markdown",
   "metadata": {},
   "source": [
    "## 5. Training the model\n",
    "Run the model here. Experiment with different batch_size, and number of epochs!"
   ]
  },
  {
   "cell_type": "code",
   "execution_count": 48,
   "metadata": {
    "scrolled": true
   },
   "outputs": [
    {
     "name": "stdout",
     "output_type": "stream",
     "text": [
      "Epoch 1/100\n",
      "25000/25000 [==============================] - 3s - loss: 0.0271 - acc: 0.9900     \n",
      "Epoch 2/100\n",
      "25000/25000 [==============================] - 2s - loss: 0.0288 - acc: 0.9896     \n",
      "Epoch 3/100\n",
      "25000/25000 [==============================] - 2s - loss: 0.0272 - acc: 0.9907     \n",
      "Epoch 4/100\n",
      "25000/25000 [==============================] - 2s - loss: 0.0250 - acc: 0.9912     \n",
      "Epoch 5/100\n",
      "25000/25000 [==============================] - 3s - loss: 0.0249 - acc: 0.9912     \n",
      "Epoch 6/100\n",
      "25000/25000 [==============================] - 3s - loss: 0.0230 - acc: 0.9918     \n",
      "Epoch 7/100\n",
      "25000/25000 [==============================] - 2s - loss: 0.0263 - acc: 0.9906     \n",
      "Epoch 8/100\n",
      "25000/25000 [==============================] - 2s - loss: 0.0293 - acc: 0.9897     \n",
      "Epoch 9/100\n",
      "25000/25000 [==============================] - 2s - loss: 0.0251 - acc: 0.9916     \n",
      "Epoch 10/100\n",
      "25000/25000 [==============================] - 2s - loss: 0.0245 - acc: 0.9916     \n",
      "Epoch 11/100\n",
      "25000/25000 [==============================] - 2s - loss: 0.0231 - acc: 0.9920     \n",
      "Epoch 12/100\n",
      "25000/25000 [==============================] - 2s - loss: 0.0260 - acc: 0.9908     \n",
      "Epoch 13/100\n",
      "25000/25000 [==============================] - 2s - loss: 0.0259 - acc: 0.9912     \n",
      "Epoch 14/100\n",
      "25000/25000 [==============================] - 2s - loss: 0.0266 - acc: 0.9909     \n",
      "Epoch 15/100\n",
      "25000/25000 [==============================] - 2s - loss: 0.0289 - acc: 0.9905     \n",
      "Epoch 16/100\n",
      "25000/25000 [==============================] - 2s - loss: 0.0255 - acc: 0.9908     \n",
      "Epoch 17/100\n",
      "25000/25000 [==============================] - 2s - loss: 0.0248 - acc: 0.9916     \n",
      "Epoch 18/100\n",
      "25000/25000 [==============================] - 2s - loss: 0.0243 - acc: 0.9915     \n",
      "Epoch 19/100\n",
      "25000/25000 [==============================] - 2s - loss: 0.0260 - acc: 0.9915     \n",
      "Epoch 20/100\n",
      "25000/25000 [==============================] - 2s - loss: 0.0228 - acc: 0.9919     \n",
      "Epoch 21/100\n",
      "25000/25000 [==============================] - 2s - loss: 0.0207 - acc: 0.9934     \n",
      "Epoch 22/100\n",
      "25000/25000 [==============================] - 2s - loss: 0.0224 - acc: 0.9920     \n",
      "Epoch 23/100\n",
      "25000/25000 [==============================] - 2s - loss: 0.0225 - acc: 0.9919     \n",
      "Epoch 24/100\n",
      "25000/25000 [==============================] - 2s - loss: 0.0228 - acc: 0.9923     \n",
      "Epoch 25/100\n",
      "25000/25000 [==============================] - 3s - loss: 0.0246 - acc: 0.9916     \n",
      "Epoch 26/100\n",
      "25000/25000 [==============================] - 3s - loss: 0.0213 - acc: 0.9930     \n",
      "Epoch 27/100\n",
      "25000/25000 [==============================] - 3s - loss: 0.0232 - acc: 0.9927     \n",
      "Epoch 28/100\n",
      "25000/25000 [==============================] - 3s - loss: 0.0240 - acc: 0.9920     \n",
      "Epoch 29/100\n",
      "25000/25000 [==============================] - 3s - loss: 0.0207 - acc: 0.9927     \n",
      "Epoch 30/100\n",
      "25000/25000 [==============================] - 3s - loss: 0.0213 - acc: 0.9925     \n",
      "Epoch 31/100\n",
      "25000/25000 [==============================] - 3s - loss: 0.0226 - acc: 0.9925     \n",
      "Epoch 32/100\n",
      "25000/25000 [==============================] - 4s - loss: 0.0205 - acc: 0.9930     \n",
      "Epoch 33/100\n",
      "25000/25000 [==============================] - 4s - loss: 0.0219 - acc: 0.9928     \n",
      "Epoch 34/100\n",
      "25000/25000 [==============================] - 3s - loss: 0.0226 - acc: 0.9922     \n",
      "Epoch 35/100\n",
      "25000/25000 [==============================] - 3s - loss: 0.0198 - acc: 0.9929     \n",
      "Epoch 36/100\n",
      "25000/25000 [==============================] - 3s - loss: 0.0204 - acc: 0.9930     \n",
      "Epoch 37/100\n",
      "25000/25000 [==============================] - 3s - loss: 0.0183 - acc: 0.9936     \n",
      "Epoch 38/100\n",
      "25000/25000 [==============================] - 3s - loss: 0.0206 - acc: 0.9932     \n",
      "Epoch 39/100\n",
      "25000/25000 [==============================] - 3s - loss: 0.0190 - acc: 0.9932     \n",
      "Epoch 40/100\n",
      "25000/25000 [==============================] - 3s - loss: 0.0227 - acc: 0.9919     \n",
      "Epoch 41/100\n",
      "25000/25000 [==============================] - 3s - loss: 0.0203 - acc: 0.9932     \n",
      "Epoch 42/100\n",
      "25000/25000 [==============================] - 3s - loss: 0.0165 - acc: 0.9946     \n",
      "Epoch 43/100\n",
      "25000/25000 [==============================] - 3s - loss: 0.0171 - acc: 0.9946     \n",
      "Epoch 44/100\n",
      "25000/25000 [==============================] - 3s - loss: 0.0191 - acc: 0.9934     \n",
      "Epoch 45/100\n",
      "25000/25000 [==============================] - 3s - loss: 0.0174 - acc: 0.9937     \n",
      "Epoch 46/100\n",
      "25000/25000 [==============================] - 3s - loss: 0.0193 - acc: 0.9936     \n",
      "Epoch 47/100\n",
      "25000/25000 [==============================] - 3s - loss: 0.0224 - acc: 0.9925     \n",
      "Epoch 48/100\n",
      "25000/25000 [==============================] - 3s - loss: 0.0179 - acc: 0.9937     \n",
      "Epoch 49/100\n",
      "25000/25000 [==============================] - 4s - loss: 0.0207 - acc: 0.9928     \n",
      "Epoch 50/100\n",
      "25000/25000 [==============================] - 3s - loss: 0.0187 - acc: 0.9938     \n",
      "Epoch 51/100\n",
      "25000/25000 [==============================] - 3s - loss: 0.0193 - acc: 0.9931     \n",
      "Epoch 52/100\n",
      "25000/25000 [==============================] - 3s - loss: 0.0196 - acc: 0.9940     \n",
      "Epoch 53/100\n",
      "25000/25000 [==============================] - 3s - loss: 0.0176 - acc: 0.9938     \n",
      "Epoch 54/100\n",
      "25000/25000 [==============================] - 3s - loss: 0.0155 - acc: 0.9944     \n",
      "Epoch 55/100\n",
      "25000/25000 [==============================] - 3s - loss: 0.0161 - acc: 0.9948     \n",
      "Epoch 56/100\n",
      "25000/25000 [==============================] - 3s - loss: 0.0199 - acc: 0.9928     \n",
      "Epoch 57/100\n",
      "25000/25000 [==============================] - 3s - loss: 0.0169 - acc: 0.9946     \n",
      "Epoch 58/100\n",
      "25000/25000 [==============================] - 3s - loss: 0.0190 - acc: 0.9934     \n",
      "Epoch 59/100\n",
      "25000/25000 [==============================] - 3s - loss: 0.0171 - acc: 0.9942     \n",
      "Epoch 60/100\n",
      "25000/25000 [==============================] - 3s - loss: 0.0188 - acc: 0.9934     \n",
      "Epoch 61/100\n",
      "25000/25000 [==============================] - 3s - loss: 0.0203 - acc: 0.9935     \n",
      "Epoch 62/100\n",
      "25000/25000 [==============================] - 3s - loss: 0.0168 - acc: 0.9946     \n",
      "Epoch 63/100\n",
      "25000/25000 [==============================] - 2s - loss: 0.0166 - acc: 0.9944     \n",
      "Epoch 64/100\n",
      "25000/25000 [==============================] - 2s - loss: 0.0178 - acc: 0.9940     \n",
      "Epoch 65/100\n",
      "25000/25000 [==============================] - 4s - loss: 0.0156 - acc: 0.9948     \n",
      "Epoch 66/100\n",
      "25000/25000 [==============================] - 2s - loss: 0.0156 - acc: 0.9943     \n",
      "Epoch 67/100\n",
      "25000/25000 [==============================] - 2s - loss: 0.0155 - acc: 0.9948     \n",
      "Epoch 68/100\n",
      "25000/25000 [==============================] - 2s - loss: 0.0146 - acc: 0.9950     \n",
      "Epoch 69/100\n",
      "25000/25000 [==============================] - 2s - loss: 0.0167 - acc: 0.9941     \n",
      "Epoch 70/100\n",
      "25000/25000 [==============================] - 2s - loss: 0.0169 - acc: 0.9943     \n",
      "Epoch 71/100\n",
      "25000/25000 [==============================] - 2s - loss: 0.0181 - acc: 0.9942     \n",
      "Epoch 72/100\n",
      "25000/25000 [==============================] - 3s - loss: 0.0178 - acc: 0.9940     \n",
      "Epoch 73/100\n",
      "25000/25000 [==============================] - 2s - loss: 0.0154 - acc: 0.9952     \n",
      "Epoch 74/100\n",
      "25000/25000 [==============================] - 2s - loss: 0.0182 - acc: 0.9938     \n",
      "Epoch 75/100\n",
      "25000/25000 [==============================] - 2s - loss: 0.0150 - acc: 0.9949     \n",
      "Epoch 76/100\n",
      "25000/25000 [==============================] - 2s - loss: 0.0141 - acc: 0.9957     \n",
      "Epoch 77/100\n",
      "25000/25000 [==============================] - 2s - loss: 0.0147 - acc: 0.9953     \n",
      "Epoch 78/100\n",
      "25000/25000 [==============================] - 2s - loss: 0.0143 - acc: 0.9950     \n",
      "Epoch 79/100\n",
      "25000/25000 [==============================] - 2s - loss: 0.0166 - acc: 0.9950     \n",
      "Epoch 80/100\n",
      "25000/25000 [==============================] - 2s - loss: 0.0165 - acc: 0.9950     \n",
      "Epoch 81/100\n",
      "25000/25000 [==============================] - 2s - loss: 0.0149 - acc: 0.9956     \n",
      "Epoch 82/100\n",
      "25000/25000 [==============================] - 2s - loss: 0.0173 - acc: 0.9939     \n",
      "Epoch 83/100\n",
      "25000/25000 [==============================] - 2s - loss: 0.0153 - acc: 0.9950     \n",
      "Epoch 84/100\n",
      "25000/25000 [==============================] - 2s - loss: 0.0146 - acc: 0.9956     \n",
      "Epoch 85/100\n"
     ]
    },
    {
     "name": "stdout",
     "output_type": "stream",
     "text": [
      "25000/25000 [==============================] - 2s - loss: 0.0172 - acc: 0.9946     \n",
      "Epoch 86/100\n",
      "25000/25000 [==============================] - 2s - loss: 0.0147 - acc: 0.9956     \n",
      "Epoch 87/100\n",
      "25000/25000 [==============================] - 2s - loss: 0.0144 - acc: 0.9953     \n",
      "Epoch 88/100\n",
      "25000/25000 [==============================] - 3s - loss: 0.0162 - acc: 0.9947     \n",
      "Epoch 89/100\n",
      "25000/25000 [==============================] - 2s - loss: 0.0185 - acc: 0.9943     \n",
      "Epoch 90/100\n",
      "25000/25000 [==============================] - 2s - loss: 0.0163 - acc: 0.9946     \n",
      "Epoch 91/100\n",
      "25000/25000 [==============================] - 2s - loss: 0.0149 - acc: 0.9945     \n",
      "Epoch 92/100\n",
      "25000/25000 [==============================] - 3s - loss: 0.0131 - acc: 0.9957     \n",
      "Epoch 93/100\n",
      "25000/25000 [==============================] - 2s - loss: 0.0164 - acc: 0.9948     \n",
      "Epoch 94/100\n",
      "25000/25000 [==============================] - 2s - loss: 0.0149 - acc: 0.9949     \n",
      "Epoch 95/100\n",
      "25000/25000 [==============================] - 2s - loss: 0.0162 - acc: 0.9952     \n",
      "Epoch 96/100\n",
      "25000/25000 [==============================] - 3s - loss: 0.0154 - acc: 0.9953     \n",
      "Epoch 97/100\n",
      "25000/25000 [==============================] - 3s - loss: 0.0148 - acc: 0.9952     \n",
      "Epoch 98/100\n",
      "25000/25000 [==============================] - 3s - loss: 0.0179 - acc: 0.9942     \n",
      "Epoch 99/100\n",
      "25000/25000 [==============================] - 3s - loss: 0.0146 - acc: 0.9952     \n",
      "Epoch 100/100\n",
      "25000/25000 [==============================] - 3s - loss: 0.0153 - acc: 0.9954     \n"
     ]
    },
    {
     "data": {
      "text/plain": [
       "<keras.callbacks.History at 0x1c89a4d9c18>"
      ]
     },
     "execution_count": 48,
     "metadata": {},
     "output_type": "execute_result"
    }
   ],
   "source": [
    "# TODO: Run the model. Feel free to experiment with different batch sizes and number of epochs.\n",
    "model.fit(x_train, y_train, epochs=100, batch_size=50)"
   ]
  },
  {
   "cell_type": "markdown",
   "metadata": {},
   "source": [
    "## 6. Evaluating the model\n",
    "This will give you the accuracy of the model, as evaluated on the testing set. Can you get something over 85%?"
   ]
  },
  {
   "cell_type": "code",
   "execution_count": 49,
   "metadata": {},
   "outputs": [
    {
     "name": "stdout",
     "output_type": "stream",
     "text": [
      "Accuracy:  0.84864\n"
     ]
    }
   ],
   "source": [
    "score = model.evaluate(x_test, y_test, verbose=0)\n",
    "print(\"Accuracy: \", score[1])"
   ]
  },
  {
   "cell_type": "markdown",
   "metadata": {},
   "source": [
    "Accuracy is nearly 85% . hence I stop here, I might be able to improve further"
   ]
  },
  {
   "cell_type": "code",
   "execution_count": null,
   "metadata": {},
   "outputs": [],
   "source": []
  }
 ],
 "metadata": {
  "kernelspec": {
   "display_name": "Python 3",
   "language": "python",
   "name": "python3"
  },
  "language_info": {
   "codemirror_mode": {
    "name": "ipython",
    "version": 3
   },
   "file_extension": ".py",
   "mimetype": "text/x-python",
   "name": "python",
   "nbconvert_exporter": "python",
   "pygments_lexer": "ipython3",
   "version": "3.6.3"
  }
 },
 "nbformat": 4,
 "nbformat_minor": 2
}
