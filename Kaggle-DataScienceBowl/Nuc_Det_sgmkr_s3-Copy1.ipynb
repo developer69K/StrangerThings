{
 "cells": [
  {
   "cell_type": "markdown",
   "metadata": {},
   "source": [
    "# Nuclei Detection using CNNs and U-net Architecture with Data Augmentation\n",
    "\n",
    "+ I will be trying two to three architectures and finally report the LB scores \n",
    "+ I will put down the benifits and disadvantages of each approach\n",
    "+ I will add Data augmentation here also for this trial\n"
   ]
  },
  {
   "cell_type": "markdown",
   "metadata": {},
   "source": [
    "## Steps From Start to Finish \n",
    "1. Imports and Tools to Use for this project\n",
    "2. Import the Data using Awazon s3 buckets and Amazon Sagemaker Jupyter Instance\n",
    "3. Analyze the Data\n",
    "4. Understanding the IOU metric and writing its custom definition for the mean IOU function\n",
    "5. Defining the Architecture/model to be used\n",
    "6. Training the Network \n",
    "7. Make predictions on the Training , Validation and the test sets\n",
    "8. RLE Encoding and Submitting the results\n",
    "\n",
    "**Steps 5 to 8 will be repeated with every new Model that I will try for this project**"
   ]
  },
  {
   "cell_type": "markdown",
   "metadata": {},
   "source": [
    "### How did I access the AWS s3 Buckets using Sagemaker ?\n",
    "\n",
    "- Using the sagemaker tutorials @ https://us-west-2.console.aws.amazon.com/sagemaker/home?region=us-west-2#/notebook-instances/Nucleidetection-Trial-1\n",
    "- You transform the data by changing its format from numpy.array to RecordIO. The RecordIO format is more efficient for the algorithms provided by Amazon SageMaker. For information about the RecordIO format, see http://mxnet.incubator.apache.org/architecture/note_data_loading.html#data-format\n",
    "+ Accesing s3 buckets using **boto3** package https://dluo.me/s3databoto3\n",
    "+ SO information : https://stackoverflow.com/questions/35803027/retrieving-subfolders-names-in-s3-bucket-from-boto3"
   ]
  },
  {
   "cell_type": "markdown",
   "metadata": {},
   "source": [
    "## 1. Imports and Tools to Use for this project"
   ]
  },
  {
   "cell_type": "code",
   "execution_count": 1,
   "metadata": {},
   "outputs": [
    {
     "name": "stderr",
     "output_type": "stream",
     "text": [
      "/home/ec2-user/anaconda3/envs/tensorflow_p36/lib/python3.6/site-packages/matplotlib/font_manager.py:281: UserWarning: Matplotlib is building the font cache using fc-list. This may take a moment.\n",
      "  'Matplotlib is building the font cache using fc-list. '\n",
      "Using TensorFlow backend.\n",
      "/home/ec2-user/anaconda3/envs/tensorflow_p36/lib/python3.6/importlib/_bootstrap.py:205: RuntimeWarning: compiletime version 3.5 of module 'tensorflow.python.framework.fast_tensor_util' does not match runtime version 3.6\n",
      "  return f(*args, **kwds)\n"
     ]
    }
   ],
   "source": [
    "import os\n",
    "import sys\n",
    "import random\n",
    "import warnings\n",
    "\n",
    "import numpy as np\n",
    "import pandas as pd\n",
    "\n",
    "import matplotlib.pyplot as plt\n",
    "import skimage.transform\n",
    "import skimage.morphology\n",
    "\n",
    "from tqdm import tqdm\n",
    "from itertools import chain\n",
    "from skimage.io import imread, imshow, imread_collection, concatenate_images\n",
    "from skimage.transform import resize\n",
    "from skimage.morphology import label\n",
    "\n",
    "from keras.models import Model, load_model\n",
    "from keras.layers import Input\n",
    "from keras.layers.core import Dropout, Lambda\n",
    "from keras.layers.convolutional import Conv2D, Conv2DTranspose\n",
    "from keras.layers.pooling import MaxPooling2D\n",
    "from keras.layers.merge import concatenate\n",
    "from keras.callbacks import EarlyStopping, ModelCheckpoint\n",
    "from keras import backend as K\n",
    "\n",
    "#For some visualiations\n",
    "import sklearn.model_selection \n",
    "import keras.preprocessing.image # For image generation and augmentation\n",
    "import datetime\n",
    "import cv2\n",
    "import seaborn as sns\n",
    "import matplotlib.cm as cm # color map\n",
    "\n",
    "#For Sagemaker and s3 bucket linking and access\n",
    "from sagemaker import get_execution_role\n",
    "import boto3\n",
    "\n",
    "import tensorflow as tf\n",
    "%matplotlib inline"
   ]
  },
  {
   "cell_type": "markdown",
   "metadata": {},
   "source": [
    "## 2. Import the Data using Awazon s3 buckets and Amazon Sagemaker Jupyter Instance\n",
    "+ Created the s3 Bucket and uploaded the data in the bucket named = 'sagemaker-datascience-bowl'\n",
    "+ Used the boto3 package the access the path and the bucket contents\n",
    "+ Do Not fix the seed here, will give problems later while using Data augmentation, hence that portion is commented"
   ]
  },
  {
   "cell_type": "code",
   "execution_count": 2,
   "metadata": {
    "collapsed": true
   },
   "outputs": [],
   "source": [
    "# Set some parameters\n",
    "# Set some parameters\n",
    "IMG_WIDTH = 256\n",
    "IMG_HEIGHT = 256\n",
    "IMG_CHANNELS = 3\n",
    "#TRAIN_PATH = '../input/stage1_train/'\n",
    "#TEST_PATH = '../input/stage1_test/'\n",
    "\n",
    "warnings.filterwarnings('ignore', category=UserWarning, module='skimage')\n",
    "#seed = 42\n",
    "#random.seed = seed\n",
    "#np.random.seed = seed"
   ]
  },
  {
   "cell_type": "code",
   "execution_count": 3,
   "metadata": {
    "collapsed": true
   },
   "outputs": [],
   "source": [
    "\n",
    "role=get_execution_role()\n",
    "bucket='sagemaker-datascience-bowl'"
   ]
  },
  {
   "cell_type": "code",
   "execution_count": 4,
   "metadata": {},
   "outputs": [
    {
     "name": "stdout",
     "output_type": "stream",
     "text": [
      "CPU times: user 0 ns, sys: 0 ns, total: 0 ns\n",
      "Wall time: 14.1 µs\n"
     ]
    }
   ],
   "source": [
    "%%time\n",
    "import pickle, gzip, numpy, urllib.request, json"
   ]
  },
  {
   "cell_type": "code",
   "execution_count": 5,
   "metadata": {},
   "outputs": [
    {
     "name": "stdout",
     "output_type": "stream",
     "text": [
      "Bucket List: ['sagemaker-datascience-bowl']\n",
      "CPU times: user 48 ms, sys: 4 ms, total: 52 ms\n",
      "Wall time: 560 ms\n"
     ]
    }
   ],
   "source": [
    "%%time\n",
    "\n",
    "client=boto3.client('s3')\n",
    "\n",
    "response=client.list_buckets()\n",
    "buckets=[bucket['Name'] for bucket in response['Buckets']]\n",
    "print(\"Bucket List: %s\"% buckets)\n",
    "\n",
    "data_key='stage1_train/'\n",
    "data_location='s3://{}//{}'.format(bucket, data_key)"
   ]
  },
  {
   "cell_type": "code",
   "execution_count": 6,
   "metadata": {},
   "outputs": [
    {
     "name": "stdout",
     "output_type": "stream",
     "text": [
      "['stage1_sample_submission.csv/', 'stage1_test/', 'stage1_train/', 'stage1_train_labels.csv/']\n"
     ]
    }
   ],
   "source": [
    "folders=[]\n",
    "paginator = client.get_paginator('list_objects')\n",
    "for result in paginator.paginate(Bucket=bucket, Delimiter='/'):\n",
    "    for prefix in result.get('CommonPrefixes'):\n",
    "        folders.append(prefix.get('Prefix'))\n",
    "print(folders)        "
   ]
  },
  {
   "cell_type": "code",
   "execution_count": 7,
   "metadata": {},
   "outputs": [
    {
     "data": {
      "text/plain": [
       "['sagemaker-datascience-bowl/stage1_sample_submission.csv/',\n",
       " 'sagemaker-datascience-bowl/stage1_test/',\n",
       " 'sagemaker-datascience-bowl/stage1_train/',\n",
       " 'sagemaker-datascience-bowl/stage1_train_labels.csv/']"
      ]
     },
     "execution_count": 7,
     "metadata": {},
     "output_type": "execute_result"
    }
   ],
   "source": [
    "paths = [ bucket+\"/\"+p for p in folders]\n",
    "paths"
   ]
  },
  {
   "cell_type": "code",
   "execution_count": 8,
   "metadata": {
    "collapsed": true
   },
   "outputs": [],
   "source": [
    "resource = boto3.resource('s3')\n",
    "my_bucket = resource.Bucket(bucket)\n",
    "files_train=list(my_bucket.objects.filter(Prefix=folders[2]))\n",
    "files_test=list(my_bucket.objects.filter(Prefix=folders[1]))"
   ]
  },
  {
   "cell_type": "markdown",
   "metadata": {},
   "source": [
    "## 3. Analyze the Data "
   ]
  },
  {
   "cell_type": "markdown",
   "metadata": {},
   "source": [
    "### Get the Train and the Test Ids here\n",
    "+ Train Ids and Test Ids Extraction \n",
    "+ Checking some random Training imgages \n",
    "+ Checking some random Test images\n",
    "+ Checking the Shapes of the images "
   ]
  },
  {
   "cell_type": "code",
   "execution_count": 9,
   "metadata": {},
   "outputs": [
    {
     "name": "stdout",
     "output_type": "stream",
     "text": [
      "--------------------------------------Training image files in s3 bucket information----------------------\n",
      "\n",
      "\n",
      "\n",
      "images    00071198d059ba7f5914a526d124d28e6d010c92466da21d4a04cd5413362552.png\n",
      "masks    07a9bf1d7594af2763c86e93f05d22c4d5181353c6d3ab30a345b908ffe5aadc.png\n",
      "masks    0e548d0af63ab451616f082eb56bde13eb71f73dfda92a03fbe88ad42ebb4881.png\n",
      "masks    0ea1f9e30124e4aef1407af239ff42fd6f5753c09b4c5cac5d08023c328d7f05.png\n",
      "masks    0f5a3252d05ecdf453bdd5e6ad5322c454d8ec2d13ef0f0bf45a6f6db45b5639.png\n",
      "masks    2c47735510ef91a11fde42b317829cee5fc04d05a797b90008803d7151951d58.png\n",
      "masks    4afa39f2a05f9884a5ff030d678c6142379f99a5baaf4f1ba7835a639cb50751.png\n",
      "masks    4bc58dbdefb2777392361d8b2d686b1cc14ca310e009b79763af46e853e6c6ac.png\n",
      "masks    4e3b49fb14877b63704881a923365b68c1def111c58f23c66daa49fef4b632bf.png\n",
      "masks    5522143fa8723b66b1e0b25331047e6ae6eeec664f7c8abeba687e0de0f9060a.png\n",
      "masks    58656859fb9c13741eda9bc753c3415b78d1135ee852a194944dee88ab70acf4.png\n",
      "masks    6442251746caac8fc255e6a22b41282ffcfabebadbd240ee0b604808ff9e3383.png\n",
      "masks    7ff04129f8b6d9aaf47e062eadce8b3fcff8b4a29ec5ad92bca926ac2b7263d2.png\n",
      "masks    8bbec3052bcec900455e8c7728d03facb46c880334bcc4fb0d1d066dd6c7c5d2.png\n",
      "masks    9576fe25f4a510f12eecbabfa2e0237b98d8c2622b9e13b9a960e2afe6da844e.png\n",
      "masks    95deddb72b845b1a1f81a282c86e666045da98344eaa2763d67e2ab80bc2e5c3.png\n",
      "masks    a1b0cdb21f341af17d86f23596df4f02a6b9c4e0d59a7f74aaf28b9e408a4e4c.png\n",
      "masks    aa154c70e0d82669e9e492309bd00536d2b0f6eeec1210014bbafbfc554b377c.png\n",
      "masks    acba6646e8250aab8865cd652dfaa7c56f643267ea2e774aee97dc2342d879d6.png\n",
      "masks    ae00049dc36a1e5ffafcdeadb44b18a9cd6dfd459ee302ab041337529bd41cf2.png\n",
      "masks    af4d6ff17fa7b41de146402e12b3bab1f1fe3c1e6f37da81a54e002168b1e7dd.png\n",
      "masks    b0cbc2c553f9c4ac2191395236f776143fb3a28fb77b81d3d258a2f45361ca89.png\n",
      "masks    b6fc3b5403de8f393ca368553566eaf03d5c07148539bc6141a486f1d185f677.png\n",
      "masks    be98de8a7ba7d5d733b1212ae957f37b5b69d0bf350b9a5a25ba4346c29e49f7.png\n",
      "masks    cb53899ef711bce04b209829c61958abdb50aa759f3f896eb7ed868021c22fb4.png\n",
      "masks    d5024b272cb39f9ef2753e2f31344f42dd17c0e2311c4927946bc5008d295d2e.png\n",
      "masks    f6eee5c69f54807923de1ceb1097fc3aa902a6b20d846f111e806988a4269ed0.png\n",
      "masks    ffae764df84788e8047c0942f55676c9663209f65da943814c6b3aca78d8e7f7.png\n",
      "---------------------------------------------------------------------------\n",
      "images   003cee89357d9fe13516167fd67b609a164651b21934585648c740d2c3d86dc1.png\n",
      "\n",
      "\n",
      "\n",
      "--------------------------------------Test images files in s3 bucket information------------------------\n",
      "images   0114f484a16c152baa2d82fdd43740880a762c93f436c8988ac461c5c9dbe7d5.png\n",
      "images   0999dab07b11bc85fb8464fc36c947fbd8b5d6ec49817361cb780659ca805eac.png\n",
      "images   0a849e0eb15faa8a6d7329c3dd66aabe9a294cccb52ed30a90c8ca99092ae732.png\n",
      "images   0e132f71c8b4875c3c2dd7a22997468a3e842b46aa9bd47cf7b0e8b7d63f0925.png\n",
      "images   0ed3555a4bd48046d3b63d8baf03a5aa97e523aa483aaa07459e7afa39fb96c6.png\n",
      "images   0f1f896d9ae5a04752d3239c690402c022db4d72c0d2c087d73380896f72c466.png\n",
      "images   1747f62148a919c8feb6d607faeebdf504b5e2ad42b6b1710b1189c37ebcdb2c.png\n",
      "images   17b9bf4356db24967c4677b8376ac38f826de73a88b93a8d73a8b452e399cdff.png\n",
      "images   1879f4f4f05e2bada0ffeb46c128b8df7a79b14c84f38c3e216a69653495153b.png\n",
      "images   191b2b2205f2f5cc9da04702c5d422bc249faf8bca1107af792da63cccfba829.png\n",
      "\n",
      "\n",
      "\n",
      "Length of the the test folder:65\n"
     ]
    }
   ],
   "source": [
    "print(\"--------------------------------------Training image files in s3 bucket information----------------------\")\n",
    "print(\"\\n\\n\")\n",
    "# Check the paths for images and texts in the train folder randomly\n",
    "for i in range(28):\n",
    "    print(files_train[i].key.split(\"/\")[2],\"  \",files_train[i].key.split(\"/\")[3])\n",
    "print(\"---------------------------------------------------------------------------\")\n",
    "print(files_train[28].key.split(\"/\")[2],\" \",files_train[28].key.split(\"/\")[3])\n",
    "print(\"\\n\\n\")\n",
    "print(\"--------------------------------------Test images files in s3 bucket information------------------------\")\n",
    "# check the paths for images in the test folder, test folder does not have any masks\n",
    "for i in range(10):\n",
    "    print(files_test[i].key.split(\"/\")[2],\" \",files_test[i].key.split(\"/\")[3])\n",
    "print(\"\\n\\n\")    \n",
    "print(\"Length of the the test folder:{}\".format(len(files_test)))    "
   ]
  },
  {
   "cell_type": "code",
   "execution_count": 10,
   "metadata": {},
   "outputs": [
    {
     "name": "stdout",
     "output_type": "stream",
     "text": [
      "670 65\n",
      "['00071198d059ba7f5914a526d124d28e6d010c92466da21d4a04cd5413362552', '003cee89357d9fe13516167fd67b609a164651b21934585648c740d2c3d86dc1', '00ae65c1c6631ae6f2be1a449902976e6eb8483bf6b0740d00530220832c6d3e', '0121d6759c5adb290c8e828fc882f37dfaf3663ec885c663859948c154a443ed', '01d44a26f6680c42ba94c9bc6339228579a95d0e2695b149b7cc0c9592b21baf', '0280fa8f60f6bcae0f97d93c28f60be194f9309ff610dc5845e60455b0f87c21', '0287e7ee5b007c91ae2bd7628d09735e70496bc6127ecb7f3dd043e04ce37426', '02903040e19ddf92f452907644ad3822918f54af41dd85e5a3fe3e1b6d6f9339', '03398329ced0c23b9ac3fac84dd53a87d9ffe4d9d10f1b5fe8df8fac12380776', '03b9306f44e9b8951461623dcbd615550cdcf36ea93b203f2c8fa58ed1dffcbe']\n",
      "\n",
      "\n",
      "Getting and resizing train images and masks\n"
     ]
    },
    {
     "name": "stderr",
     "output_type": "stream",
     "text": [
      "30131it [26:57, 18.63it/s]"
     ]
    },
    {
     "name": "stdout",
     "output_type": "stream",
     "text": [
      "670\n"
     ]
    },
    {
     "name": "stderr",
     "output_type": "stream",
     "text": [
      "\n"
     ]
    }
   ],
   "source": [
    "train_ids = [files_train[i].key.split('/')[1].strip() for i in range(len(files_train)) if 'images' in files_train[i].key.split('/')]\n",
    "test_ids = [files_test[i].key.split('/')[1].strip() for i in range(len(files_test))]\n",
    "print(len(train_ids), len(test_ids))\n",
    "print(train_ids[0:10])\n",
    "print(\"\\n\")\n",
    "X_train = np.zeros((len(train_ids), IMG_HEIGHT, IMG_WIDTH, IMG_CHANNELS), dtype=np.uint8)\n",
    "Y_train = np.zeros((len(train_ids), IMG_HEIGHT, IMG_WIDTH, 1), dtype=np.bool)\n",
    "print('Getting and resizing train images and masks')\n",
    "sys.stdout.flush()\n",
    "\n",
    "from io import BytesIO\n",
    "count=0\n",
    "for n, id_ in tqdm(enumerate(files_train)):\n",
    "    tag = files_train[n].key.split('/')[1]   #to tag masks or images , this is not required\n",
    "    id_train = files_train[n].key.split('/') #splitted key\n",
    "    if 'images' in id_train: \n",
    "        #print(\"shape of the train image {}\".format(path_im_train[1]),imread(files_train[i].get()['Body']).shape)\n",
    "        img=imread(files_train[n].get()['Body'])[:,:,:IMG_CHANNELS]\n",
    "        img=resize(img, (IMG_HEIGHT, IMG_WIDTH), mode='constant', preserve_range=True)\n",
    "        X_train[count]=img\n",
    "        count+=1\n",
    "        mask = np.zeros((IMG_HEIGHT, IMG_WIDTH, 1), dtype=np.bool)\n",
    "    elif 'masks' in id_train:\n",
    "        mask_ = imread(files_train[n].get()['Body'])\n",
    "        mask_ = np.expand_dims(resize(mask_, (IMG_HEIGHT, IMG_WIDTH), mode='constant', preserve_range=True), axis=-1)\n",
    "        mask = np.maximum(mask, mask_)\n",
    "        Y_train[count-1]=mask\n",
    "print(count)        \n",
    "#     print(\"------------------------------Test------------------------\")\n",
    "#     print(\"shape of the test image {}\".format(path_im_test[1]),imread(files_test[i].get()['Body']).shape)\n",
    "#     img_ts = imread(files_test[i].get()['Body'])[:,:,:IMG_CHANNELS]\n",
    "#     img_ts = resize(img_ts, (IMG_HEIGHT, IMG_WIDTH), mode='constant', preserve_range=True)\n",
    "#     imshow(img_ts)\n",
    "#     plt.show()\n",
    "#     imread(files_test[i].get()['Body']).shape"
   ]
  },
  {
   "cell_type": "code",
   "execution_count": 11,
   "metadata": {
    "scrolled": true
   },
   "outputs": [
    {
     "data": {
      "image/png": "[encoded data removed]",
      "text/plain": [
       "<matplotlib.figure.Figure at 0x7f457e6d4518>"
      ]
     },
     "metadata": {},
     "output_type": "display_data"
    }
   ],
   "source": [
    "## Overview of train images and masks\n",
    "\n",
    "fig, axes = plt.subplots(4,4, figsize=(20,20))\n",
    "axes[0,0].imshow(X_train[0])\n",
    "axes[0,1].imshow(np.squeeze(Y_train[0]))\n",
    "axes[0,2].imshow(np.squeeze(Y_train[1]))\n",
    "axes[0,3].imshow(np.squeeze(Y_train[2]))\n",
    "count=3\n",
    "for i in range(1,4):\n",
    "    for j in range(4):\n",
    "        count+=1\n",
    "        axes[i,j].imshow(np.squeeze(Y_train[count]))"
   ]
  },
  {
   "cell_type": "code",
   "execution_count": 12,
   "metadata": {},
   "outputs": [
    {
     "name": "stdout",
     "output_type": "stream",
     "text": [
      "Getting and resizing the test images ... \n"
     ]
    },
    {
     "name": "stderr",
     "output_type": "stream",
     "text": [
      "100%|██████████| 65/65 [00:07<00:00,  8.64it/s]"
     ]
    },
    {
     "name": "stdout",
     "output_type": "stream",
     "text": [
      "Done the processing !!\n"
     ]
    },
    {
     "name": "stderr",
     "output_type": "stream",
     "text": [
      "\n"
     ]
    }
   ],
   "source": [
    "# Get and resize test images as well and take a look\n",
    "\n",
    "X_test = np.zeros((len(test_ids), IMG_HEIGHT, IMG_WIDTH, IMG_CHANNELS), dtype=np.uint8)\n",
    "sizes_test=[]\n",
    "print('Getting and resizing the test images ... ')\n",
    "sys.stdout.flush()\n",
    "\n",
    "for n, id_ in tqdm(enumerate(files_test), total=len(files_test)):\n",
    "    img = imread(files_test[n].get()['Body'])[:,:,:IMG_CHANNELS]\n",
    "    sizes_test.append([img.shape[0], img.shape[1]])\n",
    "    img=resize(img, (IMG_HEIGHT, IMG_WIDTH), mode='constant', preserve_range=True)\n",
    "    X_test[n]=img\n",
    "print('Done the processing !!')    "
   ]
  },
  {
   "cell_type": "code",
   "execution_count": 13,
   "metadata": {},
   "outputs": [
    {
     "data": {
      "image/png": "[encoded data removed]",
      "text/plain": [
       "<matplotlib.figure.Figure at 0x7f45808921d0>"
      ]
     },
     "metadata": {},
     "output_type": "display_data"
    }
   ],
   "source": [
    "ix=random.randint(0, len(test_ids))\n",
    "imshow(X_test[ix])\n",
    "plt.show()"
   ]
  },
  {
   "cell_type": "markdown",
   "metadata": {},
   "source": [
    "## 4. Understanding the IOU metric to calculate the mean average Precision metric \n",
    "+ We use Keras for defining this metric , this metric is also defined in TF\n",
    "+ Iou is Intersection over Union , as the name suggests, This metric support is not predefined and we need to define this on our own \n",
    "+ As I go through in implementing this function, I find that it is not easy to implement the tf.metrics.mean_iou(), All that is given in the tensorflow docs, is below, Basically this just tells us what IoU is, but does not tell in detail how to use it\n",
    "+ **Calculate per-step mean Intersection-Over-Union (mIOU).**\n",
    "\n",
    "    + Mean Intersection-Over-Union is a common evaluation metric for semantic image segmentation, which first computes the IOU for each semantic class and then computes the average over classes. IOU is defined as follows: IOU = true_positive / (true_positive + false_positive + false_negative). The predictions are accumulated in a confusion matrix, weighted by weights, and mIOU is then calculated from it.\n",
    "\n",
    "    + For estimation of the metric over a stream of data, the function creates an update_op operation that updates these variables and returns the mean_iou.\n",
    "    \n",
    "+ **As per the competition , the definition of the function is as below**\n",
    "    + This competition is evaluated on the mean average precision at different intersection over union (IoU) thresholds. The IoU of a proposed set of object pixels and a set of true object pixels is calculated as:\n",
    "    > **IoU(A,B)=A∩B/A∪B.** \n",
    "    \n",
    "    **The metric sweeps over a range of IoU thresholds, at each point calculating an average precision value. The threshold values range from 0.5 to 0.95 with a step size of 0.05: (0.5, 0.55, 0.6, 0.65, 0.7, 0.75, 0.8, 0.85, 0.9, 0.95). In other words, at a threshold of 0.5, a predicted object is considered a \"hit\" if its intersection over union with a ground truth object is greater than 0.5.**\n",
    "\n",
    "    + At each threshold value t, a precision value is calculated based on the number of true positives (TP), false negatives (FN), and false positives (FP) resulting from comparing the predicted object to all ground truth objects:\n",
    "    > **TP(t)/(TP(t)+FP(t)+FN(t))**\n",
    "    \n",
    "\n",
    "+ A true positive is counted when a single predicted object matches a ground truth object with an IoU above the threshold. A false positive indicates a predicted object had no associated ground truth object. A false negative indicates a ground truth object had no associated predicted object. The average precision of a single image is then calculated as the mean of the above precision values at each IoU threshold:Lastly, the score returned by the competition metric is the mean taken over the individual average precisions of each image in the test dataset.\n",
    "\n",
    "+ There is some reading involved here , and there are some implementations that I have to go through, putting down my resources that have inspired me and helped me design this metric\n",
    "    - https://www.kaggle.com/c/data-science-bowl-2018/discussion/47690\n",
    "    - https://www.kaggle.com/keegil/keras-u-net-starter-lb-0-277\n",
    "    - http://ronny.rest/blog/post_2017_09_11_tf_metrics/"
   ]
  },
  {
   "cell_type": "code",
   "execution_count": 14,
   "metadata": {
    "collapsed": true
   },
   "outputs": [],
   "source": [
    "# define the IOU function using tf.metrics.mean_iou, this is a much simpler implementation and straight to use\n",
    "\n",
    "def mean_iou(y_true, y_pred):\n",
    "    prec=[]\n",
    "    for t in np.arange(0.5, 1.0, 0.05):\n",
    "        y_pred_=tf.to_int32(y_pred>t)\n",
    "        score, up_opt=tf.metrics.mean_iou(y_true, y_pred_,2)\n",
    "        K.get_session().run(tf.local_variables_initializer())\n",
    "        with tf.control_dependencies([up_opt]):\n",
    "            score=tf.identity(score)\n",
    "        prec.append(score)\n",
    "    return K.mean(K.stack(prec))"
   ]
  },
  {
   "cell_type": "code",
   "execution_count": 15,
   "metadata": {
    "collapsed": true
   },
   "outputs": [],
   "source": [
    "def normalize_imgs(data):\n",
    "    '''Normalize images'''\n",
    "    return normalize(data, type_=1)\n",
    "\n",
    "def normalize_masks(data):\n",
    "    '''Normalize masks'''\n",
    "    return normalize(data, type_=1)\n",
    "\n",
    "def normalize(data, type_=1):\n",
    "    '''Normalize'''\n",
    "    if type_==0:\n",
    "        # Convert pixel values from [0:255] to [0:1] by global factor\n",
    "        data = data.astype(np.float32)/data.max()\n",
    "    if type_==1:\n",
    "        # Convert pixel values from [0:255] to [0:1] by local factor\n",
    "        div = data.max(axis=tuple(np.arange(1, len(data.shape))), keepdims=True)\n",
    "        div[div<0.01*data.mean()]=1 #when the pixel intensities are very small\n",
    "        data=data.astype(np.float32)/div\n",
    "    if type==2:\n",
    "        data = data.astype(np.float32)/data.max()\n",
    "        mean=data.mean(axis=tuple(np.arange(1, len(data.shape))), keepdims=True)\n",
    "        std=data.std(axis=tuple(np.arange(1, len(data.shape))), keepdims=True)\n",
    "        data=(data-mean)/std\n",
    "    return data\n",
    "\n",
    "def trans_prob_to_binary(y_data):\n",
    "    return np.greater(y_data, 0.5).astype(np.uint8)\n",
    "\n",
    "def invert_images(imgs, cutoff=0.5):\n",
    "    '''Invert image if the mean value is greater than cutoff, this is for making the background darker'''\n",
    "    imgs = np.array(list(map(lambda x:1.-x if np.mean(x)>cutoff else x, imgs)))\n",
    "    return imgs\n",
    "\n",
    "def imgs_to_grayscale(imgs):\n",
    "    '''Transform RGB images to grayscale spectrum'''\n",
    "    if imgs.shape[3]==3:\n",
    "        imgs = normalize_imgs(np.expand_dims(np.mean(imgs, axis=3), axis=3))\n",
    "    return imgs \n",
    "\n",
    "def preprocess_data(x_train, y_train, x_test, grayscale=False, invert=False):\n",
    "    '''Preprocessing of images and the masks'''\n",
    "    #Normalize\n",
    "    x_train = normalize_imgs(x_train)\n",
    "    y_train = trans_prob_to_binary(normalize_masks(y_train))\n",
    "    x_test =  normalize_imgs(x_test)\n",
    "    print('Normalized !!')\n",
    "    \n",
    "    x_train = imgs_to_grayscale(x_train)\n",
    "    x_test =  imgs_to_grayscale(x_test)\n",
    "    print(\"Images to be transformmed into gray scale\")\n",
    "    \n",
    "    if invert:\n",
    "        '''Invert only , such that images have a dark background'''\n",
    "        x_train = invert_images(x_train)\n",
    "        x_test = invert_images(x_test)\n",
    "        print('Images are inverted to remove light backgrounds')\n",
    "        \n",
    "    \n",
    "    return x_train, y_train, x_test"
   ]
  },
  {
   "cell_type": "code",
   "execution_count": 16,
   "metadata": {},
   "outputs": [
    {
     "name": "stdout",
     "output_type": "stream",
     "text": [
      "Normalized !!\n",
      "Images to be transformmed into gray scale\n",
      "Images are inverted to remove light backgrounds\n",
      "X Train (Images) shape:  (670, 256, 256, 1)\n",
      "Y Train (Masks) shape: (670, 256, 256, 1)\n",
      "X Test (Test Images)  (65, 256, 256, 1)\n"
     ]
    }
   ],
   "source": [
    "# Checking the shapes of x_Train, Y_Train, X_Test\n",
    "# Transform into grayscale , invert if you have light background\n",
    "X_train, Y_train, X_test = preprocess_data(X_train, Y_train, X_test, invert=True)\n",
    "\n",
    "print(\"X Train (Images) shape: \", X_train.shape)\n",
    "print(\"Y Train (Masks) shape:\", Y_train.shape)\n",
    "print(\"X Test (Test Images) \",X_test.shape)"
   ]
  },
  {
   "cell_type": "markdown",
   "metadata": {},
   "source": [
    "# Define the U net Model"
   ]
  },
  {
   "cell_type": "code",
   "execution_count": 17,
   "metadata": {
    "collapsed": true
   },
   "outputs": [],
   "source": [
    "# Imports needed\n",
    "\n",
    "from keras.layers.convolutional import Conv2D, Conv2DTranspose\n",
    "from keras.layers.pooling import MaxPooling2D\n",
    "from keras.layers.merge import concatenate\n",
    "from keras.models import Model\n",
    "from keras.layers.core import Dropout, Lambda\n",
    "from keras.models import Sequential, Model\n",
    "from keras.layers import Reshape, Activation, Conv2D, Input, MaxPooling2D, BatchNormalization, Flatten, Dense, Lambda\n",
    "from keras.layers.advanced_activations import LeakyReLU\n",
    "from keras.callbacks import EarlyStopping, ModelCheckpoint, TensorBoard\n",
    "from keras.optimizers import SGD, Adam, RMSprop\n",
    "from keras.layers.merge import concatenate\n",
    "import matplotlib.pyplot as plt\n",
    "import keras.backend as K\n",
    "import tensorflow as tf\n",
    "from tqdm import tqdm_notebook\n",
    "import numpy as np\n",
    "import json\n",
    "import pickle\n",
    "import os, cv2\n"
   ]
  },
  {
   "cell_type": "code",
   "execution_count": 18,
   "metadata": {
    "collapsed": true
   },
   "outputs": [],
   "source": [
    "def Unet_model(img_size):\n",
    "    inputs = Input((img_size, img_size, 1))\n",
    "    s=Lambda(lambda x:x/255)(inputs) #Normalization\n",
    "    \n",
    "    #Downsampling [Increase the depth but decrease the height]\n",
    "    c1 = Conv2D(16, (3, 3), activation='elu', kernel_initializer='he_normal', padding='same')(s)\n",
    "    c1 = Dropout(0.1)(c1)\n",
    "    c1 = Conv2D(16, (3, 3), activation='elu', kernel_initializer='he_normal', padding='same')(c1)\n",
    "    p1 = MaxPooling2D((2, 2))(c1)\n",
    "\n",
    "    c2 = Conv2D(32, (3, 3), activation='elu', kernel_initializer='he_normal', padding='same')(p1)\n",
    "    c2 = Dropout(0.1)(c2)\n",
    "    c2 = Conv2D(32, (3, 3), activation='elu', kernel_initializer='he_normal', padding='same')(c2)\n",
    "    p2 = MaxPooling2D((2, 2))(c2)\n",
    "\n",
    "    c3 = Conv2D(64, (3, 3), activation='elu', kernel_initializer='he_normal', padding='same')(p2)\n",
    "    c3 = Dropout(0.2)(c3)\n",
    "    c3 = Conv2D(64, (3, 3), activation='elu', kernel_initializer='he_normal', padding='same')(c3)\n",
    "    p3 = MaxPooling2D((2, 2))(c3)\n",
    "\n",
    "    c4 = Conv2D(128, (3, 3), activation='elu', kernel_initializer='he_normal', padding='same')(p3)\n",
    "    c4 = Dropout(0.2)(c4)\n",
    "    c4 = Conv2D(128, (3, 3), activation='elu', kernel_initializer='he_normal', padding='same')(c4)\n",
    "    p4 = MaxPooling2D(pool_size=(2, 2))(c4)\n",
    "\n",
    "    c5 = Conv2D(256, (3, 3), activation='elu', kernel_initializer='he_normal', padding='same')(p4)\n",
    "    c5 = Dropout(0.3)(c5)\n",
    "    c5 = Conv2D(256, (3, 3), activation='elu', kernel_initializer='he_normal', padding='same')(c5)\n",
    "\n",
    "    u6 = Conv2DTranspose(128, (2, 2), strides=(2, 2), padding='same')(c5)\n",
    "    u6 = concatenate([u6, c4])\n",
    "    c6 = Conv2D(128, (3, 3), activation='elu', kernel_initializer='he_normal', padding='same')(u6)\n",
    "    c6 = Dropout(0.2)(c6)\n",
    "    c6 = Conv2D(128, (3, 3), activation='elu', kernel_initializer='he_normal', padding='same')(c6)\n",
    "\n",
    "    u7 = Conv2DTranspose(64, (2, 2), strides=(2, 2), padding='same')(c6)\n",
    "    u7 = concatenate([u7, c3])\n",
    "    c7 = Conv2D(64, (3, 3), activation='elu', kernel_initializer='he_normal', padding='same')(u7)\n",
    "    c7 = Dropout(0.2)(c7)\n",
    "    c7 = Conv2D(64, (3, 3), activation='elu', kernel_initializer='he_normal', padding='same')(c7)\n",
    "\n",
    "    u8 = Conv2DTranspose(32, (2, 2), strides=(2, 2), padding='same')(c7)\n",
    "    u8 = concatenate([u8, c2])\n",
    "    c8 = Conv2D(32, (3, 3), activation='elu', kernel_initializer='he_normal', padding='same')(u8)\n",
    "    c8 = Dropout(0.1)(c8)\n",
    "    c8 = Conv2D(32, (3, 3), activation='elu', kernel_initializer='he_normal', padding='same')(c8)\n",
    "\n",
    "    u9 = Conv2DTranspose(16, (2, 2), strides=(2, 2), padding='same')(c8)\n",
    "    u9 = concatenate([u9, c1], axis=3)\n",
    "    c9 = Conv2D(16, (3, 3), activation='elu', kernel_initializer='he_normal', padding='same')(u9)\n",
    "    c9 = Dropout(0.1)(c9)\n",
    "    c9 = Conv2D(16, (3, 3), activation='elu', kernel_initializer='he_normal', padding='same')(c9)\n",
    "\n",
    "    outputs = Conv2D(1, (1, 1), activation='sigmoid')(c9)\n",
    "\n",
    "    model = Model(inputs=[inputs], outputs=[outputs])\n",
    "    model.summary()\n",
    "    \n",
    "    return model"
   ]
  },
  {
   "cell_type": "markdown",
   "metadata": {},
   "source": [
    "# Define Generator of Images (Data Augmentation)\n",
    "+ Data Augmentation and Data Transformations"
   ]
  },
  {
   "cell_type": "code",
   "execution_count": 19,
   "metadata": {
    "collapsed": true
   },
   "outputs": [],
   "source": [
    "from keras.preprocessing.image import ImageDataGenerator\n",
    "\n",
    "def generator(xtr, xval, ytr, yval, batch_size):\n",
    "#     data_gen_args = dict(horizontal_flip=True,\n",
    "#                          vertical_flip=True,\n",
    "#                          rotation_range=90.,\n",
    "#                          width_shift_range=0.1,\n",
    "#                          height_shift_range=0.1,\n",
    "#                          zoom_range=0.1)\n",
    "    data_gen_args = dict(shear_range=0.5,\n",
    "                         rotation_range=50.,\n",
    "                         width_shift_range=0.2,\n",
    "                         height_shift_range=0.2,\n",
    "                         zoom_range=0.2,\n",
    "                         fill_mode='reflect')\n",
    "    image_datagen = ImageDataGenerator(**data_gen_args)\n",
    "    mask_datagen = ImageDataGenerator(**data_gen_args)\n",
    "    image_datagen.fit(xtr, seed=7)\n",
    "    mask_datagen.fit(ytr, seed=7)\n",
    "    image_generator = image_datagen.flow(xtr, batch_size=batch_size, seed=7)\n",
    "    mask_generator = mask_datagen.flow(ytr, batch_size=batch_size, seed=7)\n",
    "    train_generator = zip(image_generator, mask_generator)\n",
    "\n",
    "    val_gen_args = dict()\n",
    "    image_datagen_val = ImageDataGenerator(**val_gen_args)\n",
    "    mask_datagen_val = ImageDataGenerator(**val_gen_args)\n",
    "    image_datagen_val.fit(xval, seed=7)\n",
    "    mask_datagen_val.fit(yval, seed=7)\n",
    "    image_generator_val = image_datagen_val.flow(xval, batch_size=batch_size, seed=7)\n",
    "    mask_generator_val = mask_datagen_val.flow(yval, batch_size=batch_size, seed=7)\n",
    "    val_generator = zip(image_generator_val, mask_generator_val)\n",
    "\n",
    "    return train_generator, val_generator"
   ]
  },
  {
   "cell_type": "markdown",
   "metadata": {},
   "source": [
    "## Define Metrics and Loss Functions\n",
    "+ mean IoU is defined earlier\n",
    "+ Dice Coefficient and BCE (Binary Cross Entropy) Loss "
   ]
  },
  {
   "cell_type": "markdown",
   "metadata": {},
   "source": [
    "## Defining Run Length Encodings"
   ]
  },
  {
   "cell_type": "code",
   "execution_count": 20,
   "metadata": {
    "collapsed": true
   },
   "outputs": [],
   "source": [
    "from skimage.morphology import label\n",
    "\n",
    "# Given rle implementations\n",
    "def rle_encoding(x):\n",
    "    dots=np.where(x.T.flatten()==1)[0]\n",
    "    run_lengths=[]\n",
    "    prev=-2\n",
    "    for b in dots:\n",
    "        if (b>prev+1):run_lengths.extend((b+1,0))\n",
    "        run_lengths[-1]+=1\n",
    "        prev=b\n",
    "    return run_lengths\n",
    "\n",
    "def prob_to_rles(x, cutoff=0.5):\n",
    "    lab_img=label(x>cutoff)\n",
    "    for i in range(1, lab_img.max()+1):\n",
    "        yield rle_encoding(lab_img==i)"
   ]
  },
  {
   "cell_type": "markdown",
   "metadata": {},
   "source": [
    "# Training and producing the Final Results"
   ]
  },
  {
   "cell_type": "code",
   "execution_count": 21,
   "metadata": {},
   "outputs": [
    {
     "name": "stdout",
     "output_type": "stream",
     "text": [
      "__________________________________________________________________________________________________\n",
      "Layer (type)                    Output Shape         Param #     Connected to                     \n",
      "==================================================================================================\n",
      "input_1 (InputLayer)            (None, 256, 256, 1)  0                                            \n",
      "__________________________________________________________________________________________________\n",
      "lambda_1 (Lambda)               (None, 256, 256, 1)  0           input_1[0][0]                    \n",
      "__________________________________________________________________________________________________\n",
      "conv2d_1 (Conv2D)               (None, 256, 256, 16) 160         lambda_1[0][0]                   \n",
      "__________________________________________________________________________________________________\n",
      "dropout_1 (Dropout)             (None, 256, 256, 16) 0           conv2d_1[0][0]                   \n",
      "__________________________________________________________________________________________________\n",
      "conv2d_2 (Conv2D)               (None, 256, 256, 16) 2320        dropout_1[0][0]                  \n",
      "__________________________________________________________________________________________________\n",
      "max_pooling2d_1 (MaxPooling2D)  (None, 128, 128, 16) 0           conv2d_2[0][0]                   \n",
      "__________________________________________________________________________________________________\n",
      "conv2d_3 (Conv2D)               (None, 128, 128, 32) 4640        max_pooling2d_1[0][0]            \n",
      "__________________________________________________________________________________________________\n",
      "dropout_2 (Dropout)             (None, 128, 128, 32) 0           conv2d_3[0][0]                   \n",
      "__________________________________________________________________________________________________\n",
      "conv2d_4 (Conv2D)               (None, 128, 128, 32) 9248        dropout_2[0][0]                  \n",
      "__________________________________________________________________________________________________\n",
      "max_pooling2d_2 (MaxPooling2D)  (None, 64, 64, 32)   0           conv2d_4[0][0]                   \n",
      "__________________________________________________________________________________________________\n",
      "conv2d_5 (Conv2D)               (None, 64, 64, 64)   18496       max_pooling2d_2[0][0]            \n",
      "__________________________________________________________________________________________________\n",
      "dropout_3 (Dropout)             (None, 64, 64, 64)   0           conv2d_5[0][0]                   \n",
      "__________________________________________________________________________________________________\n",
      "conv2d_6 (Conv2D)               (None, 64, 64, 64)   36928       dropout_3[0][0]                  \n",
      "__________________________________________________________________________________________________\n",
      "max_pooling2d_3 (MaxPooling2D)  (None, 32, 32, 64)   0           conv2d_6[0][0]                   \n",
      "__________________________________________________________________________________________________\n",
      "conv2d_7 (Conv2D)               (None, 32, 32, 128)  73856       max_pooling2d_3[0][0]            \n",
      "__________________________________________________________________________________________________\n",
      "dropout_4 (Dropout)             (None, 32, 32, 128)  0           conv2d_7[0][0]                   \n",
      "__________________________________________________________________________________________________\n",
      "conv2d_8 (Conv2D)               (None, 32, 32, 128)  147584      dropout_4[0][0]                  \n",
      "__________________________________________________________________________________________________\n",
      "max_pooling2d_4 (MaxPooling2D)  (None, 16, 16, 128)  0           conv2d_8[0][0]                   \n",
      "__________________________________________________________________________________________________\n",
      "conv2d_9 (Conv2D)               (None, 16, 16, 256)  295168      max_pooling2d_4[0][0]            \n",
      "__________________________________________________________________________________________________\n",
      "dropout_5 (Dropout)             (None, 16, 16, 256)  0           conv2d_9[0][0]                   \n",
      "__________________________________________________________________________________________________\n",
      "conv2d_10 (Conv2D)              (None, 16, 16, 256)  590080      dropout_5[0][0]                  \n",
      "__________________________________________________________________________________________________\n",
      "conv2d_transpose_1 (Conv2DTrans (None, 32, 32, 128)  131200      conv2d_10[0][0]                  \n",
      "__________________________________________________________________________________________________\n",
      "concatenate_1 (Concatenate)     (None, 32, 32, 256)  0           conv2d_transpose_1[0][0]         \n",
      "                                                                 conv2d_8[0][0]                   \n",
      "__________________________________________________________________________________________________\n",
      "conv2d_11 (Conv2D)              (None, 32, 32, 128)  295040      concatenate_1[0][0]              \n",
      "__________________________________________________________________________________________________\n",
      "dropout_6 (Dropout)             (None, 32, 32, 128)  0           conv2d_11[0][0]                  \n",
      "__________________________________________________________________________________________________\n",
      "conv2d_12 (Conv2D)              (None, 32, 32, 128)  147584      dropout_6[0][0]                  \n",
      "__________________________________________________________________________________________________\n",
      "conv2d_transpose_2 (Conv2DTrans (None, 64, 64, 64)   32832       conv2d_12[0][0]                  \n",
      "__________________________________________________________________________________________________\n",
      "concatenate_2 (Concatenate)     (None, 64, 64, 128)  0           conv2d_transpose_2[0][0]         \n",
      "                                                                 conv2d_6[0][0]                   \n",
      "__________________________________________________________________________________________________\n",
      "conv2d_13 (Conv2D)              (None, 64, 64, 64)   73792       concatenate_2[0][0]              \n",
      "__________________________________________________________________________________________________\n",
      "dropout_7 (Dropout)             (None, 64, 64, 64)   0           conv2d_13[0][0]                  \n",
      "__________________________________________________________________________________________________\n",
      "conv2d_14 (Conv2D)              (None, 64, 64, 64)   36928       dropout_7[0][0]                  \n",
      "__________________________________________________________________________________________________\n",
      "conv2d_transpose_3 (Conv2DTrans (None, 128, 128, 32) 8224        conv2d_14[0][0]                  \n",
      "__________________________________________________________________________________________________\n",
      "concatenate_3 (Concatenate)     (None, 128, 128, 64) 0           conv2d_transpose_3[0][0]         \n",
      "                                                                 conv2d_4[0][0]                   \n",
      "__________________________________________________________________________________________________\n",
      "conv2d_15 (Conv2D)              (None, 128, 128, 32) 18464       concatenate_3[0][0]              \n",
      "__________________________________________________________________________________________________\n",
      "dropout_8 (Dropout)             (None, 128, 128, 32) 0           conv2d_15[0][0]                  \n",
      "__________________________________________________________________________________________________\n",
      "conv2d_16 (Conv2D)              (None, 128, 128, 32) 9248        dropout_8[0][0]                  \n",
      "__________________________________________________________________________________________________\n",
      "conv2d_transpose_4 (Conv2DTrans (None, 256, 256, 16) 2064        conv2d_16[0][0]                  \n",
      "__________________________________________________________________________________________________\n",
      "concatenate_4 (Concatenate)     (None, 256, 256, 32) 0           conv2d_transpose_4[0][0]         \n",
      "                                                                 conv2d_2[0][0]                   \n",
      "__________________________________________________________________________________________________\n",
      "conv2d_17 (Conv2D)              (None, 256, 256, 16) 4624        concatenate_4[0][0]              \n",
      "__________________________________________________________________________________________________\n",
      "dropout_9 (Dropout)             (None, 256, 256, 16) 0           conv2d_17[0][0]                  \n",
      "__________________________________________________________________________________________________\n",
      "conv2d_18 (Conv2D)              (None, 256, 256, 16) 2320        dropout_9[0][0]                  \n",
      "__________________________________________________________________________________________________\n",
      "conv2d_19 (Conv2D)              (None, 256, 256, 1)  17          conv2d_18[0][0]                  \n",
      "==================================================================================================\n",
      "Total params: 1,940,817\n",
      "Trainable params: 1,940,817\n",
      "Non-trainable params: 0\n",
      "__________________________________________________________________________________________________\n"
     ]
    },
    {
     "name": "stdout",
     "output_type": "stream",
     "text": [
      "Epoch 1/50\n",
      "100/100 [============================>.] - ETA: 0s - loss: 0.4602 - mean_iou: 0.4201Epoch 00001: val_loss improved from inf to 0.40667, saving model to unet-modeldsbowl-transform-ep1.hd5\n",
      "101/100 [==============================] - 173s 2s/step - loss: 0.4602 - mean_iou: 0.4202 - val_loss: 0.4067 - val_mean_iou: 0.4244\n",
      "Epoch 2/50\n",
      "100/100 [============================>.] - ETA: 0s - loss: 0.3561 - mean_iou: 0.4326Epoch 00002: val_loss improved from 0.40667 to 0.14658, saving model to unet-modeldsbowl-transform-ep1.hd5\n",
      "101/100 [==============================] - 116s 1s/step - loss: 0.3544 - mean_iou: 0.4329 - val_loss: 0.1466 - val_mean_iou: 0.4652\n",
      "Epoch 3/50\n",
      "100/100 [============================>.] - ETA: 0s - loss: 0.1634 - mean_iou: 0.5124Epoch 00003: val_loss improved from 0.14658 to 0.11251, saving model to unet-modeldsbowl-transform-ep1.hd5\n",
      "101/100 [==============================] - 117s 1s/step - loss: 0.1633 - mean_iou: 0.5128 - val_loss: 0.1125 - val_mean_iou: 0.5526\n",
      "Epoch 4/50\n",
      "100/100 [============================>.] - ETA: 0s - loss: 0.1402 - mean_iou: 0.5794Epoch 00004: val_loss did not improve\n",
      "101/100 [==============================] - 116s 1s/step - loss: 0.1402 - mean_iou: 0.5796 - val_loss: 0.1186 - val_mean_iou: 0.6021\n",
      "Epoch 5/50\n",
      "100/100 [============================>.] - ETA: 0s - loss: 0.1280 - mean_iou: 0.6180Epoch 00005: val_loss improved from 0.11251 to 0.07872, saving model to unet-modeldsbowl-transform-ep1.hd5\n",
      "101/100 [==============================] - 115s 1s/step - loss: 0.1282 - mean_iou: 0.6182 - val_loss: 0.0787 - val_mean_iou: 0.6333\n",
      "Epoch 6/50\n",
      "100/100 [============================>.] - ETA: 0s - loss: 0.1163 - mean_iou: 0.6453Epoch 00006: val_loss did not improve\n",
      "101/100 [==============================] - 115s 1s/step - loss: 0.1159 - mean_iou: 0.6454 - val_loss: 0.0887 - val_mean_iou: 0.6565\n",
      "Epoch 7/50\n",
      "100/100 [============================>.] - ETA: 0s - loss: 0.1111 - mean_iou: 0.6658Epoch 00007: val_loss did not improve\n",
      "101/100 [==============================] - 116s 1s/step - loss: 0.1112 - mean_iou: 0.6659 - val_loss: 0.0850 - val_mean_iou: 0.6741\n",
      "Epoch 8/50\n",
      "100/100 [============================>.] - ETA: 0s - loss: 0.1116 - mean_iou: 0.6813Epoch 00008: val_loss did not improve\n",
      "101/100 [==============================] - 115s 1s/step - loss: 0.1120 - mean_iou: 0.6813 - val_loss: 0.0936 - val_mean_iou: 0.6876\n",
      "Epoch 9/50\n",
      "100/100 [============================>.] - ETA: 0s - loss: 0.1079 - mean_iou: 0.6932Epoch 00009: val_loss did not improve\n",
      "101/100 [==============================] - 116s 1s/step - loss: 0.1077 - mean_iou: 0.6932 - val_loss: 0.0829 - val_mean_iou: 0.6987\n",
      "Epoch 10/50\n",
      "100/100 [============================>.] - ETA: 0s - loss: 0.1056 - mean_iou: 0.7033Epoch 00010: val_loss did not improve\n",
      "101/100 [==============================] - 115s 1s/step - loss: 0.1057 - mean_iou: 0.7034 - val_loss: 0.0852 - val_mean_iou: 0.7078\n",
      "Epoch 11/50\n",
      "100/100 [============================>.] - ETA: 0s - loss: 0.1060 - mean_iou: 0.7115Epoch 00011: val_loss did not improve\n",
      "101/100 [==============================] - 116s 1s/step - loss: 0.1056 - mean_iou: 0.7116 - val_loss: 0.0799 - val_mean_iou: 0.7152\n",
      "Epoch 12/50\n",
      "100/100 [============================>.] - ETA: 0s - loss: 0.0999 - mean_iou: 0.7187Epoch 00012: val_loss improved from 0.07872 to 0.07832, saving model to unet-modeldsbowl-transform-ep1.hd5\n",
      "101/100 [==============================] - 115s 1s/step - loss: 0.1000 - mean_iou: 0.7187 - val_loss: 0.0783 - val_mean_iou: 0.7221\n",
      "Epoch 13/50\n",
      "100/100 [============================>.] - ETA: 0s - loss: 0.0983 - mean_iou: 0.7251Epoch 00013: val_loss did not improve\n",
      "101/100 [==============================] - 115s 1s/step - loss: 0.0982 - mean_iou: 0.7252 - val_loss: 0.0811 - val_mean_iou: 0.7282\n",
      "Epoch 14/50\n",
      "100/100 [============================>.] - ETA: 0s - loss: 0.0979 - mean_iou: 0.7308Epoch 00014: val_loss did not improve\n",
      "101/100 [==============================] - 116s 1s/step - loss: 0.0977 - mean_iou: 0.7308 - val_loss: 0.0801 - val_mean_iou: 0.7334\n",
      "Epoch 15/50\n",
      "100/100 [============================>.] - ETA: 0s - loss: 0.0966 - mean_iou: 0.7357Epoch 00015: val_loss did not improve\n",
      "101/100 [==============================] - 117s 1s/step - loss: 0.0965 - mean_iou: 0.7358 - val_loss: 0.0818 - val_mean_iou: 0.7381\n",
      "Epoch 16/50\n",
      "100/100 [============================>.] - ETA: 0s - loss: 0.0970 - mean_iou: 0.7402Epoch 00016: val_loss improved from 0.07832 to 0.07597, saving model to unet-modeldsbowl-transform-ep1.hd5\n",
      "101/100 [==============================] - 117s 1s/step - loss: 0.0969 - mean_iou: 0.7402 - val_loss: 0.0760 - val_mean_iou: 0.7422\n",
      "Epoch 17/50\n",
      "100/100 [============================>.] - ETA: 0s - loss: 0.0950 - mean_iou: 0.7441Epoch 00017: val_loss did not improve\n",
      "101/100 [==============================] - 115s 1s/step - loss: 0.0950 - mean_iou: 0.7441 - val_loss: 0.0795 - val_mean_iou: 0.7461\n",
      "Epoch 18/50\n",
      "100/100 [============================>.] - ETA: 0s - loss: 0.0954 - mean_iou: 0.7478Epoch 00018: val_loss improved from 0.07597 to 0.06822, saving model to unet-modeldsbowl-transform-ep1.hd5\n",
      "101/100 [==============================] - 116s 1s/step - loss: 0.0952 - mean_iou: 0.7478 - val_loss: 0.0682 - val_mean_iou: 0.7495\n",
      "Epoch 19/50\n",
      "100/100 [============================>.] - ETA: 0s - loss: 0.0923 - mean_iou: 0.7512Epoch 00019: val_loss did not improve\n",
      "101/100 [==============================] - 117s 1s/step - loss: 0.0925 - mean_iou: 0.7512 - val_loss: 0.0756 - val_mean_iou: 0.7528\n",
      "Epoch 20/50\n",
      "100/100 [============================>.] - ETA: 0s - loss: 0.0924 - mean_iou: 0.7544Epoch 00020: val_loss did not improve\n",
      "101/100 [==============================] - 114s 1s/step - loss: 0.0925 - mean_iou: 0.7544 - val_loss: 0.0923 - val_mean_iou: 0.7558\n",
      "Epoch 21/50\n",
      "100/100 [============================>.] - ETA: 0s - loss: 0.0918 - mean_iou: 0.7573Epoch 00021: val_loss did not improve\n",
      "101/100 [==============================] - 115s 1s/step - loss: 0.0921 - mean_iou: 0.7573 - val_loss: 0.0715 - val_mean_iou: 0.7587\n",
      "Epoch 22/50\n",
      "100/100 [============================>.] - ETA: 0s - loss: 0.0894 - mean_iou: 0.7600Epoch 00022: val_loss did not improve\n",
      "101/100 [==============================] - 116s 1s/step - loss: 0.0891 - mean_iou: 0.7601 - val_loss: 0.0730 - val_mean_iou: 0.7615\n",
      "Epoch 23/50\n",
      "100/100 [============================>.] - ETA: 0s - loss: 0.0893 - mean_iou: 0.7628Epoch 00023: val_loss improved from 0.06822 to 0.06517, saving model to unet-modeldsbowl-transform-ep1.hd5\n",
      "101/100 [==============================] - 116s 1s/step - loss: 0.0892 - mean_iou: 0.7629 - val_loss: 0.0652 - val_mean_iou: 0.7641\n",
      "Epoch 24/50\n",
      "100/100 [============================>.] - ETA: 0s - loss: 0.0885 - mean_iou: 0.7652Epoch 00024: val_loss did not improve\n",
      "101/100 [==============================] - 115s 1s/step - loss: 0.0883 - mean_iou: 0.7653 - val_loss: 0.0723 - val_mean_iou: 0.7665\n",
      "Epoch 25/50\n",
      "100/100 [============================>.] - ETA: 0s - loss: 0.0849 - mean_iou: 0.7677Epoch 00025: val_loss did not improve\n",
      "101/100 [==============================] - 116s 1s/step - loss: 0.0851 - mean_iou: 0.7677 - val_loss: 0.0794 - val_mean_iou: 0.7689\n",
      "Epoch 26/50\n",
      "100/100 [============================>.] - ETA: 0s - loss: 0.0893 - mean_iou: 0.7700Epoch 00026: val_loss did not improve\n",
      "101/100 [==============================] - 116s 1s/step - loss: 0.0892 - mean_iou: 0.7700 - val_loss: 0.0716 - val_mean_iou: 0.7710\n",
      "Epoch 27/50\n",
      "100/100 [============================>.] - ETA: 0s - loss: 0.0838 - mean_iou: 0.7722Epoch 00027: val_loss did not improve\n",
      "101/100 [==============================] - 116s 1s/step - loss: 0.0839 - mean_iou: 0.7722 - val_loss: 0.0693 - val_mean_iou: 0.7733\n",
      "Epoch 28/50\n",
      "100/100 [============================>.] - ETA: 0s - loss: 0.0834 - mean_iou: 0.7744Epoch 00028: val_loss did not improve\n",
      "101/100 [==============================] - 116s 1s/step - loss: 0.0835 - mean_iou: 0.7744 - val_loss: 0.0713 - val_mean_iou: 0.7755\n",
      "Epoch 29/50\n",
      "100/100 [============================>.] - ETA: 0s - loss: 0.0822 - mean_iou: 0.7765Epoch 00029: val_loss did not improve\n",
      "101/100 [==============================] - 116s 1s/step - loss: 0.0818 - mean_iou: 0.7765 - val_loss: 0.0733 - val_mean_iou: 0.7776\n"
     ]
    },
    {
     "name": "stdout",
     "output_type": "stream",
     "text": [
      "Epoch 30/50\n",
      "100/100 [============================>.] - ETA: 0s - loss: 0.0808 - mean_iou: 0.7787Epoch 00030: val_loss did not improve\n",
      "101/100 [==============================] - 116s 1s/step - loss: 0.0808 - mean_iou: 0.7787 - val_loss: 0.0698 - val_mean_iou: 0.7797\n",
      "Epoch 31/50\n",
      "100/100 [============================>.] - ETA: 0s - loss: 0.0818 - mean_iou: 0.7807Epoch 00031: val_loss did not improve\n",
      "101/100 [==============================] - 116s 1s/step - loss: 0.0819 - mean_iou: 0.7807 - val_loss: 0.0752 - val_mean_iou: 0.7816\n",
      "Epoch 32/50\n",
      "100/100 [============================>.] - ETA: 0s - loss: 0.0798 - mean_iou: 0.7826Epoch 00032: val_loss did not improve\n",
      "101/100 [==============================] - 116s 1s/step - loss: 0.0798 - mean_iou: 0.7826 - val_loss: 0.0822 - val_mean_iou: 0.7836\n",
      "Epoch 33/50\n",
      "100/100 [============================>.] - ETA: 0s - loss: 0.0756 - mean_iou: 0.7846Epoch 00033: val_loss did not improve\n",
      "101/100 [==============================] - 116s 1s/step - loss: 0.0756 - mean_iou: 0.7846 - val_loss: 0.0695 - val_mean_iou: 0.7856\n",
      "Epoch 34/50\n",
      "100/100 [============================>.] - ETA: 0s - loss: 0.0800 - mean_iou: 0.7865Epoch 00034: val_loss did not improve\n",
      "101/100 [==============================] - 117s 1s/step - loss: 0.0798 - mean_iou: 0.7865 - val_loss: 0.0679 - val_mean_iou: 0.7873\n",
      "Epoch 35/50\n",
      "100/100 [============================>.] - ETA: 0s - loss: 0.0727 - mean_iou: 0.7883Epoch 00035: val_loss did not improve\n",
      "101/100 [==============================] - 115s 1s/step - loss: 0.0727 - mean_iou: 0.7883 - val_loss: 0.0696 - val_mean_iou: 0.7893\n",
      "Epoch 36/50\n",
      "100/100 [============================>.] - ETA: 0s - loss: 0.0721 - mean_iou: 0.7902Epoch 00036: val_loss improved from 0.06517 to 0.06037, saving model to unet-modeldsbowl-transform-ep1.hd5\n",
      "101/100 [==============================] - 115s 1s/step - loss: 0.0720 - mean_iou: 0.7903 - val_loss: 0.0604 - val_mean_iou: 0.7913\n",
      "Epoch 37/50\n",
      "100/100 [============================>.] - ETA: 0s - loss: 0.0699 - mean_iou: 0.7922Epoch 00037: val_loss did not improve\n",
      "101/100 [==============================] - 115s 1s/step - loss: 0.0697 - mean_iou: 0.7922 - val_loss: 0.0616 - val_mean_iou: 0.7932\n",
      "Epoch 38/50\n",
      "100/100 [============================>.] - ETA: 0s - loss: 0.0716 - mean_iou: 0.7941Epoch 00038: val_loss did not improve\n",
      "101/100 [==============================] - 115s 1s/step - loss: 0.0713 - mean_iou: 0.7941 - val_loss: 0.0664 - val_mean_iou: 0.7949\n",
      "Epoch 39/50\n",
      "100/100 [============================>.] - ETA: 0s - loss: 0.0681 - mean_iou: 0.7958Epoch 00039: val_loss improved from 0.06037 to 0.06020, saving model to unet-modeldsbowl-transform-ep1.hd5\n",
      "101/100 [==============================] - 116s 1s/step - loss: 0.0681 - mean_iou: 0.7958 - val_loss: 0.0602 - val_mean_iou: 0.7967\n",
      "Epoch 40/50\n",
      "100/100 [============================>.] - ETA: 0s - loss: 0.0671 - mean_iou: 0.7976Epoch 00040: val_loss did not improve\n",
      "101/100 [==============================] - 116s 1s/step - loss: 0.0671 - mean_iou: 0.7976 - val_loss: 0.0616 - val_mean_iou: 0.7985\n",
      "Epoch 41/50\n",
      "100/100 [============================>.] - ETA: 0s - loss: 0.0691 - mean_iou: 0.7993Epoch 00041: val_loss did not improve\n",
      "101/100 [==============================] - 116s 1s/step - loss: 0.0689 - mean_iou: 0.7993 - val_loss: 0.0604 - val_mean_iou: 0.8001\n",
      "Epoch 42/50\n",
      "100/100 [============================>.] - ETA: 0s - loss: 0.0704 - mean_iou: 0.8009Epoch 00042: val_loss did not improve\n",
      "101/100 [==============================] - 116s 1s/step - loss: 0.0703 - mean_iou: 0.8009 - val_loss: 0.0669 - val_mean_iou: 0.8016\n",
      "Epoch 43/50\n",
      "100/100 [============================>.] - ETA: 0s - loss: 0.0674 - mean_iou: 0.8024Epoch 00043: val_loss did not improve\n",
      "101/100 [==============================] - 116s 1s/step - loss: 0.0674 - mean_iou: 0.8024 - val_loss: 0.0627 - val_mean_iou: 0.8031\n",
      "Epoch 44/50\n",
      "100/100 [============================>.] - ETA: 0s - loss: 0.0656 - mean_iou: 0.8039Epoch 00044: val_loss did not improve\n",
      "101/100 [==============================] - 117s 1s/step - loss: 0.0658 - mean_iou: 0.8039 - val_loss: 0.0626 - val_mean_iou: 0.8046\n",
      "Epoch 45/50\n",
      "100/100 [============================>.] - ETA: 0s - loss: 0.0679 - mean_iou: 0.8053Epoch 00045: val_loss did not improve\n",
      "101/100 [==============================] - 115s 1s/step - loss: 0.0680 - mean_iou: 0.8053 - val_loss: 0.0763 - val_mean_iou: 0.8060\n",
      "Epoch 46/50\n",
      "100/100 [============================>.] - ETA: 0s - loss: 0.0659 - mean_iou: 0.8067Epoch 00046: val_loss did not improve\n",
      "101/100 [==============================] - 116s 1s/step - loss: 0.0659 - mean_iou: 0.8067 - val_loss: 0.0616 - val_mean_iou: 0.8074\n",
      "Epoch 47/50\n",
      "100/100 [============================>.] - ETA: 0s - loss: 0.0659 - mean_iou: 0.8080Epoch 00047: val_loss did not improve\n",
      "101/100 [==============================] - 115s 1s/step - loss: 0.0660 - mean_iou: 0.8081 - val_loss: 0.0660 - val_mean_iou: 0.8087\n",
      "Epoch 48/50\n",
      "100/100 [============================>.] - ETA: 0s - loss: 0.0646 - mean_iou: 0.8094Epoch 00048: val_loss did not improve\n",
      "101/100 [==============================] - 115s 1s/step - loss: 0.0645 - mean_iou: 0.8094 - val_loss: 0.0647 - val_mean_iou: 0.8100\n",
      "Epoch 49/50\n",
      "100/100 [============================>.] - ETA: 0s - loss: 0.0662 - mean_iou: 0.8107Epoch 00049: val_loss did not improve\n",
      "101/100 [==============================] - 116s 1s/step - loss: 0.0664 - mean_iou: 0.8107 - val_loss: 0.0682 - val_mean_iou: 0.8112\n",
      "Epoch 50/50\n",
      "100/100 [============================>.] - ETA: 0s - loss: 0.0654 - mean_iou: 0.8118Epoch 00050: val_loss improved from 0.06020 to 0.05614, saving model to unet-modeldsbowl-transform-ep1.hd5\n",
      "101/100 [==============================] - 116s 1s/step - loss: 0.0655 - mean_iou: 0.8119 - val_loss: 0.0561 - val_mean_iou: 0.8124\n"
     ]
    }
   ],
   "source": [
    "import pandas as pd\n",
    "from sklearn.model_selection import train_test_split\n",
    "import cv2\n",
    "import os\n",
    "import numpy as np\n",
    "\n",
    "if __name__==\"__main__\":\n",
    "    img_size=256\n",
    "    batch_size=32\n",
    "    #path = os.getcwd()\n",
    "    #train_path = path+'\\\\stage1_train\\\\'\n",
    "    #test_path = path+'\\\\stage1_test\\\\'\n",
    "    \n",
    "    #X_train, Y_train, X_test, sizes_test = make_df(train_path, test_path, img_size)\n",
    "    xtr, xval, ytr, yval = train_test_split(X_train, Y_train, test_size=0.1, random_state=7)\n",
    "    train_generator, val_generator = generator(xtr, xval, ytr, yval, batch_size)\n",
    "    \n",
    "    \n",
    "#     model=Unet_model(img_size)\n",
    "#     model.compile(optimizer='adam', loss='binary_crossentropy', metrics=[mean_iou])    \n",
    "#     model.fit_generator(train_generator, steps_per_epoch=len(xtr)/6, epochs=50, validation_data=val_generator, validation_steps=len(xval)/batch_size)\n",
    "    model=Unet_model(img_size)\n",
    "    model.compile(optimizer='adam', loss='binary_crossentropy', metrics=[mean_iou])\n",
    "    \n",
    "    earlystopper=EarlyStopping(patience=30, verbose=1)\n",
    "    checkpointer=ModelCheckpoint('unet-modeldsbowl-transform-ep1.hd5', verbose=1, save_best_only=True)\n",
    "    model.fit_generator(train_generator, steps_per_epoch=len(xtr)/6, epochs=50, validation_data=val_generator, validation_steps=len(xval)/batch_size, callbacks=[earlystopper, checkpointer])"
   ]
  },
  {
   "cell_type": "code",
   "execution_count": 23,
   "metadata": {},
   "outputs": [
    {
     "name": "stdout",
     "output_type": "stream",
     "text": [
      "65/65 [==============================] - 1s 15ms/step\n"
     ]
    }
   ],
   "source": [
    "# Make sure to save the .hd5 file with the next run\n",
    "model=load_model('unet-modeldsbowl-transform-ep1.hd5', custom_objects={'mean_iou':mean_iou})\n",
    "preds_test=model.predict(X_test, verbose=1)\n",
    "\n",
    "# for i in range(3):\n",
    "#     ix=random.randint(0, len(preds_test))\n",
    "#     imshow(X_test[-ix])\n",
    "#     plt.show()\n",
    "#     imshow(np.squeeze(preds_test[-ix]))\n",
    "#     plt.show()\n",
    "\n",
    "preds_test_unsampled=[]\n",
    "for i in range(len(preds_test)):\n",
    "    preds_test_unsampled.append(resize(np.squeeze(preds_test[i]), (sizes_test[i][0], sizes_test[i][1]), mode='constant', preserve_range=True))\n",
    "\n",
    "new_test_ids=[]\n",
    "rles=[]    \n",
    "\n",
    "for n, id_ in enumerate(test_ids):\n",
    "    rle = list(prob_to_rles(preds_test_unsampled[n]))\n",
    "    rles.extend(rle)\n",
    "    new_test_ids.extend([id_]*len(rle))\n",
    "\n",
    "sub=pd.DataFrame()\n",
    "sub['ImageId']=new_test_ids\n",
    "sub['EncodedPixels']=pd.Series(rles).apply(lambda x: ' '.join(str(y) for y in x))\n",
    "sub.to_csv('subDataScienceBowl2018_ep50_transform-unet_dataaug_v1.csv', index=False)"
   ]
  },
  {
   "cell_type": "markdown",
   "metadata": {},
   "source": [
    "## 5. Manipulate the Data (Data Augmentation and Data Transformations)\n",
    "+ I am trying this to see if these steps will help improve the LB score besides just doing plain Unet architecture"
   ]
  },
  {
   "cell_type": "code",
   "execution_count": null,
   "metadata": {
    "collapsed": true
   },
   "outputs": [],
   "source": [
    "from keras.preprocessing.image import ImageDataGenerator\n",
    "\n",
    "def normalize_imgs(data):\n",
    "    '''Normalize images'''\n",
    "    return normalize(data, type_=1)\n",
    "\n",
    "def normalize_masks(data):\n",
    "    '''Normalize masks'''\n",
    "    return normalize(data, type_=1)\n",
    "\n",
    "def normalize(data, type_=1):\n",
    "    '''Normalize'''\n",
    "    if type_==0:\n",
    "        # Convert pixel values from [0:255] to [0:1] by global factor\n",
    "        data = data.astype(np.float32)/data.max()\n",
    "    if type_==1:\n",
    "        # Convert pixel values from [0:255] to [0:1] by local factor\n",
    "        div = data.max(axis=tuple(np.arange(1, len(data.shape))), keepdims=True)\n",
    "        div[div<0.01*data.mean()]=1 #when the pixel intensities are very small\n",
    "        data=data.astype(np.float32)/div\n",
    "    if type==2:\n",
    "        data = data.astype(np.float32)/data.max()\n",
    "        mean=data.mean(axis=tuple(np.arange(1, len(data.shape))), keepdims=True)\n",
    "        std=data.std(axis=tuple(np.arange(1, len(data.shape))), keepdims=True)\n",
    "        data=(data-mean)/std\n",
    "    return data\n",
    "\n",
    "def trans_prob_to_binary(y_data):\n",
    "    return np.greater(y_data, 0.5).astype(np.uint8)\n",
    "\n",
    "def invert_images(imgs, cutoff=0.5):\n",
    "    '''Invert image if the mean value is greater than cutoff, this is for making the background darker'''\n",
    "    imgs = np.array(list(map(lambda x:1.-x if np.mean(x)>cutoff else x, imgs)))\n",
    "    return imgs\n",
    "\n",
    "def imgs_to_grayscale(imgs):\n",
    "    '''Transform RGB images to grayscale spectrum'''\n",
    "    if imgs.shape[3]==3:\n",
    "        imgs = normalize_imgs(np.expand_dims(np.mean(imgs, axis=3), axis=3))\n",
    "    return imgs    \n",
    "\n",
    "def generate_images(imgs, seed=None):\n",
    "    # Transformations.\n",
    "    image_generator =    ImageDataGenerator(\n",
    "                            rotation_range = 90., \n",
    "                            width_shift_range = 0.02 , \n",
    "                            height_shift_range = 0.02,\n",
    "                            zoom_range = 0.10, \n",
    "                            horizontal_flip=True,\n",
    "                            vertical_flip=True)\n",
    "    \n",
    "    # Generate new set of images\n",
    "    imgs = image_generator.flow(imgs, np.zeros(len(imgs)), batch_size=len(imgs),shuffle = False).next()    \n",
    "    return imgs[0]\n",
    "    \n",
    "    #image_datagen = ImageDataGenerator(**data_gen_args)\n",
    "    #mask_datagen =  ImageDataGenerator(**data_gen_args)\n",
    "    \n",
    "    #img_gen =  image_datagen.flow(imgs, batch_size=1, shuffle=False, seed=seed)\n",
    "    #mask_gen = mask_datagen.flow(masks, batch_size=1, shuffle=False, seed=seed)\n",
    "    #train_gen = zip(img_gen, mask_gen)\n",
    "    #return img_gen, mask_gen\n",
    "    \n",
    "\n",
    "def generate_images_masks(imgs, masks):\n",
    "    '''Generate new images and masks'''\n",
    "    seed = np.random.randint(10000)\n",
    "    imgs = generate_images(imgs, seed=seed)\n",
    "    masks = trans_prob_to_binary(generate_images(masks, seed=seed))\n",
    "    return imgs, masks\n",
    "\n",
    "def preprocess_data(x_train, y_train, x_test, grayscale=False, invert=False):\n",
    "    '''Preprocessing of images and the masks'''\n",
    "    #Normalize\n",
    "    x_train = normalize_imgs(x_train)\n",
    "    y_train = trans_prob_to_binary(normalize_masks(y_train))\n",
    "    x_test =  normalize_imgs(x_test)\n",
    "    print('Normalized !!')\n",
    "    \n",
    "    x_train = imgs_to_grayscale(x_train)\n",
    "    x_test =  imgs_to_grayscale(x_test)\n",
    "    print(\"Images to be transformmed into gray scale\")\n",
    "    \n",
    "    if invert:\n",
    "        '''Invert only , such that images have a dark background'''\n",
    "        x_train = invert_images(x_train)\n",
    "        x_test = invert_images(x_test)\n",
    "        print('Images are inverted to remove light backgrounds')\n",
    "        \n",
    "    \n",
    "    return x_train, y_train, x_test"
   ]
  },
  {
   "cell_type": "code",
   "execution_count": null,
   "metadata": {
    "collapsed": true
   },
   "outputs": [],
   "source": [
    "# Normalize all images and masks.\n",
    "# Transform into grayscale , invert if you have light background\n",
    "x_train, y_train, x_test = preprocess_data(X_train, Y_train, X_test, invert=True)\n",
    "\n",
    "# Checking the shapes of x_Train, Y_Train, X_Test\n",
    "print(\"X Train (Images) shape: \", x_train.shape)\n",
    "print(\"Y Train (Masks) shape:\", y_train.shape)\n",
    "print(\"X Test (Test Images) \",x_test.shape)"
   ]
  },
  {
   "cell_type": "code",
   "execution_count": null,
   "metadata": {
    "collapsed": true
   },
   "outputs": [],
   "source": [
    "# Analyze the data that is transformed , to check what we have here\n",
    "ix = random.randint(0, len(train_ids))\n",
    "imshow(np.squeeze(y_train[ix]))\n",
    "plt.show()\n",
    "mask = y_train[ix].reshape(y_train.shape[1], y_train.shape[2])\n",
    "print(mask.shape)\n",
    "lab_mask=skimage.morphology.label(mask>.5)\n",
    "(mask_labels, mask_sizes)=np.unique(lab_mask, return_counts=True)\n",
    "\n",
    "print(\" \")\n",
    "print(\"The Mask Labels that appear | The Mask sizes or the Frequency they appear for in the mask\" \"\\n\")\n",
    "print(mask_labels)\n",
    "print(mask_sizes)"
   ]
  },
  {
   "cell_type": "code",
   "execution_count": null,
   "metadata": {
    "collapsed": true
   },
   "outputs": [],
   "source": [
    "def get_nuclei_frequency():\n",
    "    nuclei_sizes = []\n",
    "    mask_idx = []\n",
    "    for i in range(len(y_train)):\n",
    "        mask = y_train[i].reshape(y_train.shape[1], y_train.shape[2])\n",
    "        lab_mask=skimage.morphology.label(mask>.5)\n",
    "        (mask_labels, mask_sizes)=np.unique(lab_mask, return_counts=True) #Get the Unique values and the counts/freq\n",
    "        nuclei_sizes.extend(mask_sizes[1:])\n",
    "        mask_idx.extend([i]*len(mask_sizes[1:]))\n",
    "    return mask_idx, nuclei_sizes\n",
    "\n",
    "mask_idx, nuclei_sizes = get_nuclei_frequency()\n",
    "nuclei_sizes_df = pd.DataFrame()\n",
    "nuclei_sizes_df['mask_index']=mask_idx\n",
    "nuclei_sizes_df['nucleous_size']=nuclei_sizes\n",
    "\n",
    "print(nuclei_sizes_df.describe(),\"\\n\")\n",
    "print(nuclei_sizes_df.sort_values(by='nucleous_size', ascending=False).head(10),\"\\n\")\n",
    "print(nuclei_sizes_df.sort_values(by='nucleous_size', ascending=True).head(10),\"\\n\")"
   ]
  },
  {
   "cell_type": "code",
   "execution_count": null,
   "metadata": {
    "collapsed": true
   },
   "outputs": [],
   "source": [
    "def imshow_args(x):\n",
    "    if len(x.shape)==2: return x, cm.gray\n",
    "    if x.shape[2]==1: return x[:,:,0], cm.gray\n",
    "    return x, None\n",
    "\n",
    "fig, axes = plt.subplots(1,4, figsize=(20,20))\n",
    "idx = random.randint(0, len(train_ids))\n",
    "\n",
    "axes[0].imshow(X_train[idx])\n",
    "axes[0].set_title('{}.   original image'.format(idx))\n",
    "\n",
    "img, img_type = imshow_args(x_train[idx])\n",
    "axes[1].imshow(img, img_type)\n",
    "axes[1].set_title('{}.  transformed image'.format(idx))\n",
    "\n",
    "axes[2].imshow(np.squeeze(Y_train[idx]))\n",
    "axes[2].set_title('{}.   original mask'.format(idx))\n",
    "\n",
    "axes[3].imshow(y_train[idx,:,:,0], cm.gray)\n",
    "axes[3].set_title('{}.   transformed mask'.format(idx))"
   ]
  },
  {
   "cell_type": "code",
   "execution_count": null,
   "metadata": {
    "collapsed": true
   },
   "outputs": [],
   "source": [
    "# Generate new images/masks via transformations / image augmentation used for Regularization\n",
    "\n",
    "fig, axs = plt.subplots(1,4,figsize=(20,20))\n",
    "n=166\n",
    "img_new, mask_new = generate_images_masks(x_train[n:n+1], y_train[n:n+1])\n",
    "img, img_type = imshow_args(x_train[n])\n",
    "print(x_train[n].shape)\n",
    "print(y_train[n].shape)\n",
    "print(img_new[0].shape)\n",
    "print(mask_new[0].shape)\n",
    "\n",
    "axs[0].imshow(img, img_type)\n",
    "axs[0].set_title('{}. original image'.format(n))\n",
    "\n",
    "img, img_type = imshow_args(img_new[0])\n",
    "axs[1].imshow(img, img_type)\n",
    "axs[1].set_title('{}. transformed image'.format(n))\n",
    "\n",
    "\n",
    "img, img_type = imshow_args(y_train[n,:,:,0])\n",
    "axs[2].imshow(img, img_type)\n",
    "axs[2].set_title('{}. original mask'.format(n))\n",
    "\n",
    "\n",
    "img, img_type = imshow_args(mask_new[0,:,:,0])\n",
    "axs[3].imshow(img, img_type)\n",
    "axs[3].set_title('{}. transformed mask'.format(n))"
   ]
  },
  {
   "cell_type": "markdown",
   "metadata": {},
   "source": [
    "## Unet Model 2nd Trial with Image sizes [128,128,1]\n",
    "\n",
    "+ I am using Image Augmentation here and all the images are transformed to help with the prediction\n",
    "+ I am not able to use \"seed\" option here , As I complete the prediction I will check how this is going to affect the final prediction "
   ]
  },
  {
   "cell_type": "code",
   "execution_count": null,
   "metadata": {
    "collapsed": true
   },
   "outputs": [],
   "source": [
    "from keras.models import Sequential, Model\n",
    "from keras.layers import Reshape, Activation, Conv2D, Input, MaxPooling2D, BatchNormalization, Flatten, Dense, Lambda\n",
    "from keras.layers.advanced_activations import LeakyReLU\n",
    "from keras.callbacks import EarlyStopping, ModelCheckpoint, TensorBoard\n",
    "from keras.optimizers import SGD, Adam, RMSprop\n",
    "from keras.layers.merge import concatenate\n",
    "import matplotlib.pyplot as plt\n",
    "import keras.backend as K\n",
    "import tensorflow as tf\n",
    "from tqdm import tqdm_notebook\n",
    "import numpy as np\n",
    "import json\n",
    "import pickle\n",
    "import os, cv2\n"
   ]
  },
  {
   "cell_type": "code",
   "execution_count": null,
   "metadata": {
    "collapsed": true,
    "scrolled": true
   },
   "outputs": [],
   "source": [
    "# Build U-Net model\n",
    "inputs = Input((IMG_HEIGHT, IMG_WIDTH, 1))\n",
    "s = Lambda(lambda x: x / 255) (inputs) #Normalization \n",
    "\n",
    "# Upconversion\n",
    "c1 = Conv2D(16, (3, 3), activation='elu', kernel_initializer='he_normal', padding='same') (s)\n",
    "c1 = Dropout(0.1) (c1)\n",
    "c1 = Conv2D(16, (3, 3), activation='elu', kernel_initializer='he_normal', padding='same') (c1)\n",
    "p1 = MaxPooling2D((2, 2)) (c1)\n",
    "\n",
    "c2 = Conv2D(32, (3, 3), activation='elu', kernel_initializer='he_normal', padding='same') (p1)\n",
    "c2 = Dropout(0.1) (c2)\n",
    "c2 = Conv2D(32, (3, 3), activation='elu', kernel_initializer='he_normal', padding='same') (c2)\n",
    "p2 = MaxPooling2D((2, 2)) (c2)\n",
    "\n",
    "c3 = Conv2D(64, (3, 3), activation='elu', kernel_initializer='he_normal', padding='same') (p2)\n",
    "c3 = Dropout(0.2) (c3)\n",
    "c3 = Conv2D(64, (3, 3), activation='elu', kernel_initializer='he_normal', padding='same') (c3)\n",
    "p3 = MaxPooling2D((2, 2)) (c3)\n",
    "\n",
    "c4 = Conv2D(128, (3, 3), activation='elu', kernel_initializer='he_normal', padding='same') (p3)\n",
    "c4 = Dropout(0.2) (c4)\n",
    "c4 = Conv2D(128, (3, 3), activation='elu', kernel_initializer='he_normal', padding='same') (c4)\n",
    "p4 = MaxPooling2D(pool_size=(2, 2)) (c4)\n",
    "\n",
    "c5 = Conv2D(256, (3, 3), activation='elu', kernel_initializer='he_normal', padding='same') (p4)\n",
    "c5 = Dropout(0.3) (c5)\n",
    "c5 = Conv2D(256, (3, 3), activation='elu', kernel_initializer='he_normal', padding='same') (c5)\n",
    "\n",
    "#Downconversion\n",
    "u6 = Conv2DTranspose(128, (2, 2), strides=(2, 2), padding='same') (c5)\n",
    "u6 = concatenate([u6, c4])\n",
    "c6 = Conv2D(128, (3, 3), activation='elu', kernel_initializer='he_normal', padding='same') (u6)\n",
    "c6 = Dropout(0.2) (c6)\n",
    "c6 = Conv2D(128, (3, 3), activation='elu', kernel_initializer='he_normal', padding='same') (c6)\n",
    "\n",
    "u7 = Conv2DTranspose(64, (2, 2), strides=(2, 2), padding='same') (c6)\n",
    "u7 = concatenate([u7, c3])\n",
    "c7 = Conv2D(64, (3, 3), activation='elu', kernel_initializer='he_normal', padding='same') (u7)\n",
    "c7 = Dropout(0.2) (c7)\n",
    "c7 = Conv2D(64, (3, 3), activation='elu', kernel_initializer='he_normal', padding='same') (c7)\n",
    "\n",
    "u8 = Conv2DTranspose(32, (2, 2), strides=(2, 2), padding='same') (c7)\n",
    "u8 = concatenate([u8, c2])\n",
    "c8 = Conv2D(32, (3, 3), activation='elu', kernel_initializer='he_normal', padding='same') (u8)\n",
    "c8 = Dropout(0.1) (c8)\n",
    "c8 = Conv2D(32, (3, 3), activation='elu', kernel_initializer='he_normal', padding='same') (c8)\n",
    "\n",
    "u9 = Conv2DTranspose(16, (2, 2), strides=(2, 2), padding='same') (c8)\n",
    "u9 = concatenate([u9, c1], axis=3)\n",
    "c9 = Conv2D(16, (3, 3), activation='elu', kernel_initializer='he_normal', padding='same') (u9)\n",
    "c9 = Dropout(0.1) (c9)\n",
    "c9 = Conv2D(16, (3, 3), activation='elu', kernel_initializer='he_normal', padding='same') (c9)\n",
    "\n",
    "outputs = Conv2D(1, (1, 1), activation='sigmoid') (c9)\n",
    "\n",
    "model_unet = Model(inputs=[inputs], outputs=[outputs])\n",
    "model_unet.compile(optimizer='adam', loss='binary_crossentropy', metrics=[mean_iou])\n",
    "model_unet.summary()\n"
   ]
  },
  {
   "cell_type": "code",
   "execution_count": null,
   "metadata": {
    "collapsed": true
   },
   "outputs": [],
   "source": [
    "# Put the Generated images as well to be trained \n",
    "print(x_train.shape)\n",
    "print(y_train.shape)\n",
    "\n",
    "x_train_gen = np.zeros((len(train_ids), IMG_HEIGHT, IMG_WIDTH, 1), dtype=np.uint8)\n",
    "y_train_gen = np.zeros((len(train_ids), IMG_HEIGHT, IMG_WIDTH, 1), dtype=np.bool)\n",
    "\n",
    "print('Image Augmentations starts here !!')\n",
    "sys.stdout.flush()\n",
    "\n",
    "img_new, mask_new = generate_images_masks(x_train[0:1], y_train[0:1])\n",
    "\n",
    "print('Original Image')\n",
    "img, img_type = imshow_args(x_train[0])\n",
    "imshow(img)\n",
    "plt.show()\n",
    "\n",
    "print('Transformed Image')\n",
    "img, img_type = imshow_args(img_new[0])\n",
    "imshow(img)\n",
    "plt.show()\n",
    "\n",
    "print('Original Mask')\n",
    "img, img_type = imshow_args(y_train[0])\n",
    "imshow(img)\n",
    "plt.show()\n",
    "\n",
    "print('Transformed Mask')\n",
    "img, img_type = imshow_args(mask_new[0])\n",
    "imshow(img)\n",
    "plt.show()"
   ]
  },
  {
   "cell_type": "code",
   "execution_count": null,
   "metadata": {
    "collapsed": true
   },
   "outputs": [],
   "source": [
    "print(x_train[0])\n",
    "print(x_train.shape)\n",
    "\n",
    "for i in tqdm(range(2), total=len(x_train)):\n",
    "    img_new, mask_new = generate_images_masks(x_train[i:i+1], y_train[i:i+1])\n",
    "    x_train_gen[i]=img_new[0]\n",
    "    y_train_gen[i]=mask_new[0]\n",
    "    #x_train_gen[i]=img_new[0]\n",
    "    #y_train_gen[i]=mask_new[0]\n",
    "print('Processing done !!')\n",
    "\n",
    "img, img_type = imshow_args(x_train_gen[0])\n",
    "imshow(img)\n",
    "plt.show()\n",
    "\n",
    "# x_train_fin = np.concatenate((x_train, x_train_gen), axis=0)\n",
    "# y_train_fin = np.concatenate((y_train, y_train_gen), axis=0)"
   ]
  },
  {
   "cell_type": "code",
   "execution_count": null,
   "metadata": {
    "collapsed": true
   },
   "outputs": [],
   "source": [
    "print(x_train_gen.shape)\n",
    "print(y_train_gen.shape)"
   ]
  },
  {
   "cell_type": "code",
   "execution_count": null,
   "metadata": {
    "collapsed": true
   },
   "outputs": [],
   "source": [
    "# Train the Model\n",
    "\n",
    "earlystopper = EarlyStopping(patience=20, verbose=1)\n",
    "checkpointer = ModelCheckpoint('model-dsbowl2018-mode-unet-dataaug-v1p2-cnn-ep-100.h5', verbose=1, save_best_only=True)\n",
    "results = model_unet.fit(x_train_fin, y_train_fin, validation_split=0.1, batch_size=16, epochs=100, \n",
    "                    callbacks=[earlystopper, checkpointer])"
   ]
  },
  {
   "cell_type": "code",
   "execution_count": null,
   "metadata": {
    "collapsed": true
   },
   "outputs": [],
   "source": [
    "# Stopped early as the Loss does not seem to be improving any further\n",
    "\n",
    "#load the model and predict on the train , test and the validation set\n",
    "model_unet_=load_model('model-dsbowl2018-mode-unet-dataaug-v1p2-cnn-ep-100.h5', custom_objects={'mean_iou':mean_iou})\n",
    "pred_train_1 = model_unet_.predict(x_train_fin[:int(len(train_ids)*2*0.9)], verbose=1)\n",
    "pred_val_1 = model_unet_.predict(x_train_fin[int(len(train_ids)*2*0.9):], verbose=1)\n",
    "pred_test_1 = model_unet_.predict(x_test, verbose=1)"
   ]
  },
  {
   "cell_type": "code",
   "execution_count": null,
   "metadata": {
    "collapsed": true
   },
   "outputs": [],
   "source": [
    "#threshold to correctly predict\n",
    "pred_train_th_1 = (pred_train_1>0.5).astype(np.uint8)\n",
    "pred_val_th_1 = (pred_val_1>0.5).astype(np.uint8)\n",
    "pred_test_th_1 = (pred_test_1>0.5).astype(np.uint8)\n",
    "\n",
    "#create a list of unsampled test masks to compare\n",
    "pred_test_unsampled=[]\n",
    "for i in range(len(pred_test_1)):\n",
    "    pred_test_unsampled.append(resize(np.squeeze(pred_test_1[i]),\n",
    "                                     (sizes_test[i][0], sizes_test[i][1]),\n",
    "                                     mode='constant', preserve_range=True))"
   ]
  },
  {
   "cell_type": "code",
   "execution_count": null,
   "metadata": {
    "collapsed": true
   },
   "outputs": [],
   "source": [
    "# Perform a sanity check \n",
    "\n",
    "#pick a image in the training set\n",
    "\n",
    "fig, ax = plt.subplots(1,4, figsize=(20,20))\n",
    "ix = random.randint(0, len(pred_train_th_1))\n",
    "\n",
    "print(len(pred_test_th_1))\n",
    "print(x_train_fin[ix].shape)\n",
    "print(x_train_fin[ix])\n",
    "img, img_type = imshow_args(x_train_fin[ix])\n",
    "axs[0].imshow(img, img_type)\n",
    "axs[0].set_title('{}. original image'.format(ix))\n",
    "\n",
    "# img, img_type = imshow(y_train_fin[ix])\n",
    "# ax[1].imshow(img, img_type)\n",
    "# ax[1].set_title('{}. Mask'.format(ix))\n",
    "\n",
    "# img, img_type = imshow(pred_train_th_1[ix])\n",
    "# ax[2].imshow(img, img_type)\n",
    "# ax[2].set_title('{}. Mask'.format(ix))\n"
   ]
  },
  {
   "cell_type": "markdown",
   "metadata": {},
   "source": [
    "### Simple CNN Architecture \n",
    "+ Using a simple CNN architecture to get a benchmark to whether this can predict based on the Iou"
   ]
  },
  {
   "cell_type": "code",
   "execution_count": null,
   "metadata": {
    "collapsed": true
   },
   "outputs": [],
   "source": [
    "# Make Simple CNN model and Test it here\n",
    "from keras.preprocessing import image\n",
    "from keras.models import Model, Sequential\n",
    "from keras.layers import Dense, GlobalAveragePooling2D, BatchNormalization, Conv2D, UpSampling2D, Lambda\n",
    "from keras import backend as K\n",
    "\n",
    "simple_cnn = Sequential()\n",
    "simple_cnn.add(BatchNormalization(input_shape=(IMG_HEIGHT, IMG_WIDTH, IMG_CHANNELS), name=\"NormalizeInput\"))\n",
    "simple_cnn.add(Conv2D(8, kernel_size=(3,3), padding='same'))\n",
    "simple_cnn.add(Conv2D(8, kernel_size=(3,3), padding='same'))\n",
    "\n",
    "simple_cnn.add(Conv2D(16, kernel_size=(3,3), dilation_rate=2, padding='same'))\n",
    "simple_cnn.add(Conv2D(16, kernel_size=(3,3), dilation_rate=2, padding='same'))\n",
    "simple_cnn.add(Conv2D(32, kernel_size=(3,3), dilation_rate=2, padding='same'))\n",
    "\n",
    "\n",
    "simple_cnn.add(Conv2D(16, kernel_size=(1,1), padding='same'))\n",
    "simple_cnn.add(Conv2D(1, kernel_size=(1,1), padding='same', activation='sigmoid'))\n",
    "simple_cnn.summary()\n",
    "\n",
    "inputs=Input((IMG_HEIGHT, IMG_WIDTH, IMG_CHANNELS))\n",
    "s=Lambda(lambda x:x/255) (inputs) #normalization\n",
    "encoded_images = simple_cnn(s)\n",
    "outputs = Dense(1, activation='sigmoid') (encoded_images)\n",
    "\n",
    "cnnmodel = Model(inputs = [inputs], outputs=[outputs])\n",
    "cnnmodel.compile(optimizer='adam', loss='binary_crossentropy', metrics=[mean_iou])"
   ]
  },
  {
   "cell_type": "code",
   "execution_count": null,
   "metadata": {
    "collapsed": true
   },
   "outputs": [],
   "source": [
    "# Lets do some training here\n",
    "earlystopper = EarlyStopping(patience=4, verbose=1)\n",
    "checkpointer = ModelCheckpoint('model-dsbowl2018-mode-simplecnn-ep-50.h5', verbose=1, save_best_only=True)\n",
    "results=cnnmodel.fit(X_train, Y_train, validation_split=0.1, batch_size=16, epochs=150, callbacks=[earlystopper, checkpointer])"
   ]
  },
  {
   "cell_type": "markdown",
   "metadata": {
    "collapsed": true
   },
   "source": [
    "## Make Predictions on train, test and validation sets\n",
    "\n",
    "+ Above the best fitting model was only saved "
   ]
  },
  {
   "cell_type": "code",
   "execution_count": null,
   "metadata": {
    "collapsed": true
   },
   "outputs": [],
   "source": [
    "model=load_model('model-dsbowl2018-mode-simplecnn-ep-50.h5', custom_objects={'mean_iou':mean_iou})\n",
    "pred_train = model.predict(X_train[:int(X_train.shape[0]*0.9)], verbose=1) #0.9 as rest is validation\n",
    "pred_val = model.predict(X_train[int(X_train.shape[0]*0.9):], verbose=1) #0.9 as rest is validation\n",
    "pred_test = model.predict(X_test, verbose=1) #0.9 as rest is validation\n",
    "\n",
    "preds_train_t=(pred_train>0.5).astype(np.uint8)\n",
    "preds_test_t=(pred_test>0.5).astype(np.uint8)\n",
    "preds_val_t=(pred_val>0.5).astype(np.uint8)\n",
    "\n",
    "#create the test masks here\n",
    "pred_test_unsampled=[]\n",
    "for i in range(len(pred_test)):\n",
    "    pred_test_unsampled.append(resize(np.squeeze(pred_test[i]), (sizes_test[i][0], sizes_test[i][1]), mode='constant', preserve_range=True))"
   ]
  },
  {
   "cell_type": "code",
   "execution_count": null,
   "metadata": {
    "collapsed": true
   },
   "outputs": [],
   "source": [
    "# Lets see some of the samples we are getting\n",
    "ix = random.randint(0, len(preds_train_t))\n",
    "imshow(X_train[ix])\n",
    "plt.show()\n",
    "\n",
    "imshow(np.squeeze(Y_train[ix]))\n",
    "plt.show()\n",
    "\n",
    "imshow(np.squeeze(preds_train_t[ix]))\n",
    "plt.show()"
   ]
  },
  {
   "cell_type": "markdown",
   "metadata": {},
   "source": [
    "# Encoding and submitting the results\n",
    "+ The results need to be in RLE format (run length encoding)\n",
    "+ The RLE code is taken from https://www.kaggle.com/rakhlin/fast-run-length-encoding-python"
   ]
  },
  {
   "cell_type": "code",
   "execution_count": null,
   "metadata": {
    "collapsed": true
   },
   "outputs": [],
   "source": [
    "def rle(x):\n",
    "    dots=np.where(x.T.flatten()==1)[0]\n",
    "    run_lengths=[]\n",
    "    prev=-2\n",
    "    for b in dots:\n",
    "        if (b>prev+1):run_lengths.extend((b+1,0))\n",
    "        run_lengths[-1]+=1\n",
    "        prev=b\n",
    "    return run_lengths\n",
    "\n",
    "def prob_to_rle(x, cutoff=0.5):\n",
    "    lab_img=label(x>cutoff)\n",
    "    for i in range(1, lab_img.max()+1):\n",
    "        yield rle(lab_img==i)"
   ]
  },
  {
   "cell_type": "code",
   "execution_count": null,
   "metadata": {
    "collapsed": true
   },
   "outputs": [],
   "source": [
    "# Iterate over the test IDs and generate RLE for each separate masks\n",
    "new_test_ids=[]\n",
    "rles=[]\n",
    "for n, id_ in enumerate(test_ids):\n",
    "    rle_=list(prob_to_rle(pred_test_unsampled[n]))\n",
    "    rles.extend(rle_)\n",
    "    new_test_ids.extend([id_]*len(rle_))"
   ]
  },
  {
   "cell_type": "code",
   "execution_count": null,
   "metadata": {
    "collapsed": true
   },
   "outputs": [],
   "source": [
    "#create the submission Dataframe and excel\n",
    "sub=pd.DataFrame()\n",
    "sub['ImageId'] = new_test_ids\n",
    "sub['EncodedPixels']=pd.Series(rles).apply(lambda x: ' '.join(str(y) for y in x))\n",
    "sub.to_csv('sub-dsbowl2018-cnn-4th.csv', index=False)"
   ]
  },
  {
   "cell_type": "markdown",
   "metadata": {},
   "source": [
    "### Results and Scores on the LB\n",
    "- This just scores 0.147 LB , which is pretty Low, on the LB score.\n",
    "- One thing we can conclude at least is that a Simple CNN also works and is able to predict a mask which somehow resembles the actuat training images\n",
    "- On the test set we did not do too good\n",
    "- I will try to explore into some of the other Architectures and see how I perform with those on the LB\n",
    "- I tried fiddling with Resnet50 , but I think Direct Transfer learning approach is not required here for reasons below\n",
    "    + Transfer learning is based on the imagenet Dataset, which is mostly used for image recognition and not image segmentation of cells\n",
    "    + Resnet50 also does not give me a output that is compatible to do IoU"
   ]
  },
  {
   "cell_type": "markdown",
   "metadata": {},
   "source": [
    "## Unet Model 1st Trial with Image sizes [224,224,3]\n",
    "+ Trying to experiment with the YOLO model for Cell detection : https://github.com/experiencor/basic-yolo-keras/blob/master/examples/Blood%20Cell%20Detection.ipynb\n",
    "+ The output for the model with maxpooling comes out to be of the dim [7,7,1] , so I am reducing my masks to that"
   ]
  },
  {
   "cell_type": "code",
   "execution_count": null,
   "metadata": {
    "collapsed": true
   },
   "outputs": [],
   "source": [
    "from keras.applications.resnet50 import ResNet50\n",
    "from keras.preprocessing import image\n",
    "from keras.applications.resnet50 import preprocess_input, decode_predictions\n",
    "model_resnet=ResNet50(weights='imagenet')\n"
   ]
  },
  {
   "cell_type": "code",
   "execution_count": null,
   "metadata": {
    "collapsed": true
   },
   "outputs": [],
   "source": [
    "X_train_resnet = np.zeros((len(train_ids), 224, 224, IMG_CHANNELS), dtype=np.uint8)\n",
    "Y_train_resnet = np.zeros((len(train_ids), 224, 224, 1), dtype=np.bool)\n",
    "print('Getting and resizing train images and masks')\n",
    "sys.stdout.flush()\n",
    "\n",
    "c=0\n",
    "# reshape into (224,224)\n",
    "for n, id_ in tqdm(enumerate(files_train)):\n",
    "    id_train = files_train[n].key.split('/')\n",
    "    if 'images' in id_train:\n",
    "        img = imread(files_train[n].get()['Body'])[:,:,:IMG_CHANNELS]\n",
    "        img=resize(img,  (224, 224), mode='constant', preserve_range=True)\n",
    "        X_train_resnet[c]=img\n",
    "        c+=1\n",
    "        mask=np.zeros((224,224,1), dtype=np.bool)\n",
    "        #mask=np.zeros((7,7,1), dtype=np.bool)\n",
    "    elif 'masks' in id_train:\n",
    "        mask_=imread(files_train[n].get()['Body'])\n",
    "        mask_=np.expand_dims(resize(mask_, (224, 224), mode='constant', preserve_range=True), axis=-1)\n",
    "        #mask_=np.expand_dims(resize(mask_, (7, 7), mode='constant', preserve_range=True), axis=-1)\n",
    "        mask = np.maximum(mask, mask_)\n",
    "        Y_train_resnet[c-1]=mask\n",
    "print(c)        "
   ]
  },
  {
   "cell_type": "code",
   "execution_count": null,
   "metadata": {
    "collapsed": true
   },
   "outputs": [],
   "source": [
    "idx = random.randint(0, len(train_ids))\n",
    "imshow(X_train_resnet[idx])\n",
    "plt.show()\n",
    "\n",
    "imshow(np.squeeze(Y_train_resnet[idx]))\n",
    "plt.show()"
   ]
  },
  {
   "cell_type": "code",
   "execution_count": null,
   "metadata": {
    "collapsed": true
   },
   "outputs": [],
   "source": [
    "#Reshape and resize the test images for resnet50 model\n",
    "\n",
    "X_test_resnet=np.zeros((len(test_ids), 224, 224, IMG_CHANNELS), dtype=np.uint8)\n",
    "sizes_test=[]\n",
    "print('Getting and resizing the test  images...')\n",
    "sys.stdout.flush()\n",
    "\n",
    "for n, id_ in tqdm(enumerate(files_test), total=len(files_test)):\n",
    "    img=imread(files_test[n].get()['Body'])[:,:,:IMG_CHANNELS]\n",
    "    sizes_test.append([img.shape[0], img.shape[1]])\n",
    "    img=resize(img, (224,224), mode='constant', preserve_range=True)\n",
    "    X_test_resnet[n]=img\n",
    "print('Done the processing !!')"
   ]
  },
  {
   "cell_type": "code",
   "execution_count": null,
   "metadata": {
    "collapsed": true
   },
   "outputs": [],
   "source": [
    "print(len(X_test_resnet))\n",
    "idx=random.randint(0, len(test_ids))\n",
    "imshow(X_test_resnet[idx])\n",
    "plt.show()"
   ]
  },
  {
   "cell_type": "code",
   "execution_count": null,
   "metadata": {
    "collapsed": true
   },
   "outputs": [],
   "source": [
    "from keras.models import Sequential, Model\n",
    "from keras.layers import Reshape, Activation, Conv2D, Input, MaxPooling2D, BatchNormalization, Flatten, Dense, Lambda\n",
    "from keras.layers.advanced_activations import LeakyReLU\n",
    "from keras.callbacks import EarlyStopping, ModelCheckpoint, TensorBoard\n",
    "from keras.optimizers import SGD, Adam, RMSprop\n",
    "from keras.layers.merge import concatenate\n",
    "import matplotlib.pyplot as plt\n",
    "import keras.backend as K\n",
    "import tensorflow as tf\n",
    "from tqdm import tqdm_notebook\n",
    "import numpy as np\n",
    "import json\n",
    "import pickle\n",
    "import os, cv2\n"
   ]
  },
  {
   "cell_type": "markdown",
   "metadata": {},
   "source": [
    "# Build and train our neural network\n",
    "Next we build our U-Net model, loosely based on [U-Net: Convolutional Networks for Biomedical Image Segmentation](https://arxiv.org/pdf/1505.04597.pdf) and very similar to [this repo](https://github.com/jocicmarko/ultrasound-nerve-segmentation) from the Kaggle Ultrasound Nerve Segmentation competition.\n",
    "\n",
    "![](https://lmb.informatik.uni-freiburg.de/people/ronneber/u-net/u-net-architecture.png)"
   ]
  },
  {
   "cell_type": "code",
   "execution_count": null,
   "metadata": {
    "collapsed": true
   },
   "outputs": [],
   "source": [
    "# A new model description using YOLO\n",
    "\n",
    "# Build U-Net model\n",
    "inputs = Input((224, 224, IMG_CHANNELS))\n",
    "s = Lambda(lambda x: x / 255) (inputs) #Normalization \n",
    "\n",
    "# Upconversion\n",
    "c1 = Conv2D(16, (3, 3), activation='elu', kernel_initializer='he_normal', padding='same') (s)\n",
    "c1 = Dropout(0.1) (c1)\n",
    "c1 = Conv2D(16, (3, 3), activation='elu', kernel_initializer='he_normal', padding='same') (c1)\n",
    "p1 = MaxPooling2D((2, 2)) (c1)\n",
    "\n",
    "c2 = Conv2D(32, (3, 3), activation='elu', kernel_initializer='he_normal', padding='same') (p1)\n",
    "c2 = Dropout(0.1) (c2)\n",
    "c2 = Conv2D(32, (3, 3), activation='elu', kernel_initializer='he_normal', padding='same') (c2)\n",
    "p2 = MaxPooling2D((2, 2)) (c2)\n",
    "\n",
    "c3 = Conv2D(64, (3, 3), activation='elu', kernel_initializer='he_normal', padding='same') (p2)\n",
    "c3 = Dropout(0.2) (c3)\n",
    "c3 = Conv2D(64, (3, 3), activation='elu', kernel_initializer='he_normal', padding='same') (c3)\n",
    "p3 = MaxPooling2D((2, 2)) (c3)\n",
    "\n",
    "c4 = Conv2D(128, (3, 3), activation='elu', kernel_initializer='he_normal', padding='same') (p3)\n",
    "c4 = Dropout(0.2) (c4)\n",
    "c4 = Conv2D(128, (3, 3), activation='elu', kernel_initializer='he_normal', padding='same') (c4)\n",
    "p4 = MaxPooling2D(pool_size=(2, 2)) (c4)\n",
    "\n",
    "c5 = Conv2D(256, (3, 3), activation='elu', kernel_initializer='he_normal', padding='same') (p4)\n",
    "c5 = Dropout(0.3) (c5)\n",
    "c5 = Conv2D(256, (3, 3), activation='elu', kernel_initializer='he_normal', padding='same') (c5)\n",
    "\n",
    "#Downconversion\n",
    "u6 = Conv2DTranspose(128, (2, 2), strides=(2, 2), padding='same') (c5)\n",
    "u6 = concatenate([u6, c4])\n",
    "c6 = Conv2D(128, (3, 3), activation='elu', kernel_initializer='he_normal', padding='same') (u6)\n",
    "c6 = Dropout(0.2) (c6)\n",
    "c6 = Conv2D(128, (3, 3), activation='elu', kernel_initializer='he_normal', padding='same') (c6)\n",
    "\n",
    "u7 = Conv2DTranspose(64, (2, 2), strides=(2, 2), padding='same') (c6)\n",
    "u7 = concatenate([u7, c3])\n",
    "c7 = Conv2D(64, (3, 3), activation='elu', kernel_initializer='he_normal', padding='same') (u7)\n",
    "c7 = Dropout(0.2) (c7)\n",
    "c7 = Conv2D(64, (3, 3), activation='elu', kernel_initializer='he_normal', padding='same') (c7)\n",
    "\n",
    "u8 = Conv2DTranspose(32, (2, 2), strides=(2, 2), padding='same') (c7)\n",
    "u8 = concatenate([u8, c2])\n",
    "c8 = Conv2D(32, (3, 3), activation='elu', kernel_initializer='he_normal', padding='same') (u8)\n",
    "c8 = Dropout(0.1) (c8)\n",
    "c8 = Conv2D(32, (3, 3), activation='elu', kernel_initializer='he_normal', padding='same') (c8)\n",
    "\n",
    "u9 = Conv2DTranspose(16, (2, 2), strides=(2, 2), padding='same') (c8)\n",
    "u9 = concatenate([u9, c1], axis=3)\n",
    "c9 = Conv2D(16, (3, 3), activation='elu', kernel_initializer='he_normal', padding='same') (u9)\n",
    "c9 = Dropout(0.1) (c9)\n",
    "c9 = Conv2D(16, (3, 3), activation='elu', kernel_initializer='he_normal', padding='same') (c9)\n",
    "\n",
    "outputs = Conv2D(1, (1, 1), activation='sigmoid') (c9)\n",
    "\n",
    "model_unet = Model(inputs=[inputs], outputs=[outputs])\n",
    "model_unet.compile(optimizer='adam', loss='binary_crossentropy', metrics=[mean_iou])\n",
    "model_unet.summary()\n"
   ]
  },
  {
   "cell_type": "code",
   "execution_count": null,
   "metadata": {
    "collapsed": true
   },
   "outputs": [],
   "source": [
    "# Do the Training using the YOLO (you only look once) cnn model\n",
    "\n",
    "earlystopper = EarlyStopping(patience=5, verbose=1)\n",
    "checkpointer = ModelCheckpoint('model-dsbowl2018-mode-unet-v1p0-cnn-ep-100.h5', verbose=1, save_best_only=True)\n",
    "results = model_unet.fit(X_train_resnet, Y_train_resnet, validation_split=0.1, batch_size=16, epochs=100, \n",
    "                    callbacks=[earlystopper, checkpointer])"
   ]
  },
  {
   "cell_type": "code",
   "execution_count": null,
   "metadata": {
    "collapsed": true
   },
   "outputs": [],
   "source": [
    "# Stopped early as the Loss does not seem to be improving any further\n",
    "\n",
    "#load the model and predict on the train , test and the validation set\n",
    "model_unet_=load_model('model-dsbowl2018-mode-unet-v1p0-cnn-ep-100.h5', custom_objects={'mean_iou':mean_iou})\n",
    "pred_train_ = model_unet_.predict(X_train_resnet[:int(len(train_ids)*0.9)], verbose=1)\n",
    "pred_val_ = model_unet_.predict(X_train_resnet[int(len(train_ids)*0.9):], verbose=1)\n",
    "pred_test_ = model_unet_.predict(X_test_resnet, verbose=1)\n",
    "\n",
    "\n",
    "#threshold to correctly predict\n",
    "pred_train_th = (pred_train_>0.5).astype(np.uint8)\n",
    "pred_val_th = (pred_val_>0.5).astype(np.uint8)\n",
    "pred_test_th = (pred_test_>0.5).astype(np.uint8)\n",
    "\n",
    "#create a list of unsampled test masks to compare\n",
    "pred_test_unsampled=[]\n",
    "for i in range(len(pred_test_)):\n",
    "    pred_test_unsampled.append(resize(np.squeeze(pred_test_[i]),\n",
    "                                     (sizes_test[i][0], sizes_test[i][1]),\n",
    "                                     mode='constant', preserve_range=True))"
   ]
  },
  {
   "cell_type": "code",
   "execution_count": null,
   "metadata": {
    "collapsed": true
   },
   "outputs": [],
   "source": [
    "# Perform a sanity check \n",
    "\n",
    "#pick a image in the training set\n",
    "ix = random.randint(0, len(pred_train_th))\n",
    "imshow(X_train_resnet[ix])\n",
    "plt.show()\n",
    "\n",
    "imshow(np.squeeze(Y_train_resnet[ix]))\n",
    "plt.show()\n",
    "\n",
    "imshow(np.squeeze(pred_train_th[ix]))\n",
    "plt.show()"
   ]
  },
  {
   "cell_type": "markdown",
   "metadata": {},
   "source": [
    "#### This is able to predict the mask somewhat ok "
   ]
  },
  {
   "cell_type": "code",
   "execution_count": null,
   "metadata": {
    "collapsed": true
   },
   "outputs": [],
   "source": [
    "# Perform a sanity check on some random validation samples\n",
    "ix = random.randint(0, len(pred_val_th))\n",
    "imshow(X_train_resnet[int(len(train_ids)*0.9):][ix])\n",
    "plt.show()\n",
    "\n",
    "imshow(np.squeeze(Y_train_resnet[int(len(train_ids)*0.9):][ix]))\n",
    "plt.show()\n",
    "\n",
    "imshow(np.squeeze(pred_val_th[ix]))\n",
    "plt.show()"
   ]
  },
  {
   "cell_type": "markdown",
   "metadata": {},
   "source": [
    "\n",
    "# Run Length Encode and submit our results\n",
    "\n",
    "+ Need to see more improvement , Plain U-net no image augmentation yet\n",
    "\n",
    "+ Now it's time to submit our results. I've stolen [this](https://www.kaggle.com/rakhlin/fast-run-length-encoding-python) excellent implementation of run-length encoding."
   ]
  },
  {
   "cell_type": "code",
   "execution_count": null,
   "metadata": {
    "collapsed": true
   },
   "outputs": [],
   "source": [
    "new_test_ids = []\n",
    "rles=[]\n",
    "for n, id_ in enumerate(test_ids):\n",
    "    rle_=list(prob_to_rle(pred_test_unsampled[n]))\n",
    "    rles.extend(rle_)\n",
    "    new_test_ids.extend([id_]*len(rle_))"
   ]
  },
  {
   "cell_type": "code",
   "execution_count": null,
   "metadata": {
    "collapsed": true
   },
   "outputs": [],
   "source": [
    "# Now put the values in the .csv format to submit , use pandas for this\n",
    "sub=pd.DataFrame()\n",
    "sub['ImageId']=new_test_ids\n",
    "sub['EncodedPixels'] = pd.Series(rles).apply(lambda x:' '.join(str(y) for y in x))\n",
    "sub.to_csv('sub-dsbowl2018-unet-ep-32-5th.csv',index=False)"
   ]
  },
  {
   "cell_type": "markdown",
   "metadata": {},
   "source": [
    "## Best Submission yet , This submission reached a LB score of 0.282\n",
    "+ This is my Best submission yet on 3/18 . LB score = 0.282 , ranks at top 60% \n",
    "+ This is a significant improvement from my simple CNN submission which achieves only 0.146 score\n",
    "+ Further improvement could be put here by the use of data Augmentation, which will be mu next attempt\n",
    "+ Looking over some of the kernels, I see that I am doing better than most of the other kernels that were in the discussion forums , so I think it will be tough to go beyond this\n",
    "+ The Model is based on https://arxiv.org/abs/1505.04597 , seems the unet architecture came up in 2015 and was considered best at that time for Biomedical image segmentation\n",
    "+ I will aslo see if I can improve and tweak on the current U-net model to achieve a better score without image augmentation"
   ]
  }
 ],
 "metadata": {
  "kernelspec": {
   "display_name": "conda_tensorflow_p36",
   "language": "python",
   "name": "conda_tensorflow_p36"
  },
  "language_info": {
   "codemirror_mode": {
    "name": "ipython",
    "version": 3
   },
   "file_extension": ".py",
   "mimetype": "text/x-python",
   "name": "python",
   "nbconvert_exporter": "python",
   "pygments_lexer": "ipython3",
   "version": "3.6.2"
  },
  "nbpresent": {
   "slides": {},
   "themes": {
    "default": "c9b8d552-9966-471c-8be1-55444af9cdf6",
    "theme": {
     "c9b8d552-9966-471c-8be1-55444af9cdf6": {
      "backgrounds": {
       "dc7afa04-bf90-40b1-82a5-726e3cff5267": {
        "background-color": "31af15d2-7e15-44c5-ab5e-e04b16a89eff",
        "id": "dc7afa04-bf90-40b1-82a5-726e3cff5267"
       }
      },
      "id": "c9b8d552-9966-471c-8be1-55444af9cdf6",
      "palette": {
       "19cc588f-0593-49c9-9f4b-e4d7cc113b1c": {
        "id": "19cc588f-0593-49c9-9f4b-e4d7cc113b1c",
        "rgb": [
         252,
         252,
         252
        ]
       },
       "31af15d2-7e15-44c5-ab5e-e04b16a89eff": {
        "id": "31af15d2-7e15-44c5-ab5e-e04b16a89eff",
        "rgb": [
         68,
         68,
         68
        ]
       },
       "50f92c45-a630-455b-aec3-788680ec7410": {
        "id": "50f92c45-a630-455b-aec3-788680ec7410",
        "rgb": [
         197,
         226,
         245
        ]
       },
       "c5cc3653-2ee1-402a-aba2-7caae1da4f6c": {
        "id": "c5cc3653-2ee1-402a-aba2-7caae1da4f6c",
        "rgb": [
         43,
         126,
         184
        ]
       },
       "efa7f048-9acb-414c-8b04-a26811511a21": {
        "id": "efa7f048-9acb-414c-8b04-a26811511a21",
        "rgb": [
         25.118061674008803,
         73.60176211453744,
         107.4819383259912
        ]
       }
      },
      "rules": {
       "a": {
        "color": "19cc588f-0593-49c9-9f4b-e4d7cc113b1c"
       },
       "blockquote": {
        "color": "50f92c45-a630-455b-aec3-788680ec7410",
        "font-size": 3
       },
       "code": {
        "font-family": "Anonymous Pro"
       },
       "h1": {
        "color": "19cc588f-0593-49c9-9f4b-e4d7cc113b1c",
        "font-family": "Merriweather",
        "font-size": 8
       },
       "h2": {
        "color": "19cc588f-0593-49c9-9f4b-e4d7cc113b1c",
        "font-family": "Merriweather",
        "font-size": 6
       },
       "h3": {
        "color": "50f92c45-a630-455b-aec3-788680ec7410",
        "font-family": "Lato",
        "font-size": 5.5
       },
       "h4": {
        "color": "c5cc3653-2ee1-402a-aba2-7caae1da4f6c",
        "font-family": "Lato",
        "font-size": 5
       },
       "h5": {
        "font-family": "Lato"
       },
       "h6": {
        "font-family": "Lato"
       },
       "h7": {
        "font-family": "Lato"
       },
       "li": {
        "color": "50f92c45-a630-455b-aec3-788680ec7410",
        "font-size": 3.25
       },
       "pre": {
        "font-family": "Anonymous Pro",
        "font-size": 4
       }
      },
      "text-base": {
       "color": "19cc588f-0593-49c9-9f4b-e4d7cc113b1c",
       "font-family": "Lato",
       "font-size": 4
      }
     }
    }
   }
  }
 },
 "nbformat": 4,
 "nbformat_minor": 2
}
