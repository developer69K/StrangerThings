{
 "cells": [
  {
   "cell_type": "markdown",
   "metadata": {},
   "source": [
    "# Generative Adversarial Network\n",
    "\n",
    "In this notebook, we'll be building a generative adversarial network (GAN) trained on the MNIST dataset. From this, we'll be able to generate new handwritten digits!\n",
    "\n",
    "GANs were [first reported on](https://arxiv.org/abs/1406.2661) in 2014 from Ian Goodfellow and others in Yoshua Bengio's lab. Since then, GANs have exploded in popularity. Here are a few examples to check out:\n",
    "\n",
    "* [Pix2Pix](https://affinelayer.com/pixsrv/) \n",
    "* [CycleGAN](https://github.com/junyanz/CycleGAN)\n",
    "* [A whole list](https://github.com/wiseodd/generative-models)\n",
    "\n",
    "The idea behind GANs is that you have two networks, a generator $G$ and a discriminator $D$, competing against each other. The generator makes fake data to pass to the discriminator. The discriminator also sees real data and predicts if the data it's received is real or fake. The generator is trained to fool the discriminator, it wants to output data that looks _as close as possible_ to real data. And the discriminator is trained to figure out which data is real and which is fake. What ends up happening is that the generator learns to make data that is indistiguishable from real data to the discriminator.\n",
    "\n",
    "![GAN diagram](assets/gan_diagram.png)\n",
    "\n",
    "The general structure of a GAN is shown in the diagram above, using MNIST images as data. The latent sample is a random vector the generator uses to contruct it's fake images. As the generator learns through training, it figures out how to map these random vectors to recognizable images that can fool the discriminator.\n",
    "\n",
    "The output of the discriminator is a sigmoid function, where 0 indicates a fake image and 1 indicates an real image. If you're interested only in generating new images, you can throw out the discriminator after training. Now, let's see how we build this thing in TensorFlow."
   ]
  },
  {
   "cell_type": "code",
   "execution_count": 1,
   "metadata": {},
   "outputs": [],
   "source": [
    "%matplotlib inline\n",
    "\n",
    "import pickle as pkl\n",
    "import numpy as np\n",
    "import tensorflow as tf\n",
    "import matplotlib.pyplot as plt"
   ]
  },
  {
   "cell_type": "code",
   "execution_count": 2,
   "metadata": {},
   "outputs": [
    {
     "name": "stdout",
     "output_type": "stream",
     "text": [
      "Extracting MNIST_data\\train-images-idx3-ubyte.gz\n",
      "Extracting MNIST_data\\train-labels-idx1-ubyte.gz\n",
      "Extracting MNIST_data\\t10k-images-idx3-ubyte.gz\n",
      "Extracting MNIST_data\\t10k-labels-idx1-ubyte.gz\n"
     ]
    }
   ],
   "source": [
    "from tensorflow.examples.tutorials.mnist import input_data\n",
    "mnist = input_data.read_data_sets('MNIST_data')"
   ]
  },
  {
   "cell_type": "markdown",
   "metadata": {},
   "source": [
    "## Model Inputs\n",
    "\n",
    "First we need to create the inputs for our graph. We need two inputs, one for the discriminator and one for the generator. Here we'll call the discriminator input `inputs_real` and the generator input `inputs_z`. We'll assign them the appropriate sizes for each of the networks.\n",
    "\n",
    ">**Exercise:** Finish the `model_inputs` function below. Create the placeholders for `inputs_real` and `inputs_z` using the input sizes `real_dim` and `z_dim` respectively."
   ]
  },
  {
   "cell_type": "code",
   "execution_count": 3,
   "metadata": {},
   "outputs": [],
   "source": [
    "def model_inputs(real_dim, z_dim):\n",
    "    inputs_real = tf.placeholder(tf.float32, (None, real_dim), name=\"input_real\")\n",
    "    inputs_z = tf.placeholder(tf.float32, (None, z_dim), name=\"input_z\")\n",
    "    \n",
    "    return inputs_real, inputs_z"
   ]
  },
  {
   "cell_type": "markdown",
   "metadata": {},
   "source": [
    "## Generator network\n",
    "\n",
    "![GAN Network](assets/gan_network.png)\n",
    "\n",
    "Here we'll build the generator network. To make this network a universal function approximator, we'll need at least one hidden layer. We should use a leaky ReLU to allow gradients to flow backwards through the layer unimpeded. A leaky ReLU is like a normal ReLU, except that there is a small non-zero output for negative input values.\n",
    "\n",
    "#### Variable Scope\n",
    "Here we need to use `tf.variable_scope` for two reasons. Firstly, we're going to make sure all the variable names start with `generator`. Similarly, we'll prepend `discriminator` to the discriminator variables. This will help out later when we're training the separate networks.\n",
    "\n",
    "We could just use `tf.name_scope` to set the names, but we also want to reuse these networks with different inputs. For the generator, we're going to train it, but also _sample from it_ as we're training and after training. The discriminator will need to share variables between the fake and real input images. So, we can use the `reuse` keyword for `tf.variable_scope` to tell TensorFlow to reuse the variables instead of creating new ones if we build the graph again.\n",
    "\n",
    "To use `tf.variable_scope`, you use a `with` statement:\n",
    "```python\n",
    "with tf.variable_scope('scope_name', reuse=False):\n",
    "    # code here\n",
    "```\n",
    "\n",
    "Here's more from [the TensorFlow documentation](https://www.tensorflow.org/programmers_guide/variable_scope#the_problem) to get another look at using `tf.variable_scope`.\n",
    "\n",
    "#### Leaky ReLU\n",
    "TensorFlow doesn't provide an operation for leaky ReLUs, so we'll need to make one . For this you can just take the outputs from a linear fully connected layer and pass them to `tf.maximum`. Typically, a parameter `alpha` sets the magnitude of the output for negative values. So, the output for negative input (`x`) values is `alpha*x`, and the output for positive `x` is `x`:\n",
    "$$\n",
    "f(x) = max(\\alpha * x, x)\n",
    "$$\n",
    "\n",
    "#### Tanh Output\n",
    "The generator has been found to perform the best with $tanh$ for the generator output. This means that we'll have to rescale the MNIST images to be between -1 and 1, instead of 0 and 1.\n",
    "\n",
    ">**Exercise:** Implement the generator network in the function below. You'll need to return the tanh output. Make sure to wrap your code in a variable scope, with 'generator' as the scope name, and pass the `reuse` keyword argument from the function to `tf.variable_scope`."
   ]
  },
  {
   "cell_type": "code",
   "execution_count": 11,
   "metadata": {},
   "outputs": [],
   "source": [
    "def generator(z, out_dim, n_units=128, reuse=False,  alpha=0.01):\n",
    "    ''' Build the generator network.\n",
    "    \n",
    "        Arguments\n",
    "        ---------\n",
    "        z : Input tensor for the generator\n",
    "        out_dim : Shape of the generator output\n",
    "        n_units : Number of units in hidden layer\n",
    "        reuse : Reuse the variables with tf.variable_scope\n",
    "        alpha : leak parameter for leaky ReLU\n",
    "        \n",
    "        Returns\n",
    "        -------\n",
    "        out: \n",
    "    '''\n",
    "    with tf.variable_scope('generator', reuse=reuse):\n",
    "        # 1st Hidden layer\n",
    "        h1 = tf.layers.dense(z, n_units, activation=None)\n",
    "        # 2nd Hidden layer\n",
    "        h2 = tf.layers.dense(h1, n_units, activation=None)\n",
    "        # Leaky ReLU\n",
    "        h2 = tf.maximum(alpha * h2, h2)\n",
    "        \n",
    "        # Logits and tanh output\n",
    "        logits = tf.layers.dense(h2, out_dim, activation=None)\n",
    "        out = tf.tanh(logits)\n",
    "        \n",
    "        return out"
   ]
  },
  {
   "cell_type": "markdown",
   "metadata": {},
   "source": [
    "## Discriminator\n",
    "\n",
    "The discriminator network is almost exactly the same as the generator network, except that we're using a sigmoid output layer.\n",
    "\n",
    ">**Exercise:** Implement the discriminator network in the function below. Same as above, you'll need to return both the logits and the sigmoid output. Make sure to wrap your code in a variable scope, with 'discriminator' as the scope name, and pass the `reuse` keyword argument from the function arguments to `tf.variable_scope`."
   ]
  },
  {
   "cell_type": "code",
   "execution_count": 12,
   "metadata": {},
   "outputs": [],
   "source": [
    "def discriminator(x, n_units=128, reuse=False, alpha=0.01):\n",
    "    ''' Build the discriminator network.\n",
    "    \n",
    "        Arguments\n",
    "        ---------\n",
    "        x : Input tensor for the discriminator\n",
    "        n_units: Number of units in hidden layer\n",
    "        reuse : Reuse the variables with tf.variable_scope\n",
    "        alpha : leak parameter for leaky ReLU\n",
    "        \n",
    "        Returns\n",
    "        -------\n",
    "        out, logits: \n",
    "    '''\n",
    "    with tf.variable_scope('discriminator', reuse=reuse):\n",
    "        # Hidden layer\n",
    "        h1 = tf.layers.dense(x, n_units, activation=None)\n",
    "        # 2nd Hidden layer\n",
    "        h2 = tf.layers.dense(h1, n_units, activation=None)\n",
    "        # Leaky ReLU\n",
    "        h2 = tf.maximum(alpha * h2, h2)\n",
    "        \n",
    "        logits = tf.layers.dense(h2, 1, activation=None)\n",
    "        out = tf.sigmoid(logits)\n",
    "        \n",
    "        return out, logits"
   ]
  },
  {
   "cell_type": "markdown",
   "metadata": {},
   "source": [
    "## Hyperparameters"
   ]
  },
  {
   "cell_type": "code",
   "execution_count": 13,
   "metadata": {},
   "outputs": [],
   "source": [
    "# Size of input image to discriminator\n",
    "input_size = 784 # 28x28 MNIST images flattened\n",
    "# Size of latent vector to generator\n",
    "z_size = 100\n",
    "# Sizes of hidden layers in generator and discriminator\n",
    "g_hidden_size = 256\n",
    "d_hidden_size = 256\n",
    "# Leak factor for leaky ReLU\n",
    "alpha = 0.01\n",
    "# Label smoothing \n",
    "smooth = 0.1"
   ]
  },
  {
   "cell_type": "markdown",
   "metadata": {},
   "source": [
    "## Build network\n",
    "\n",
    "Now we're building the network from the functions defined above.\n",
    "\n",
    "First is to get our inputs, `input_real, input_z` from `model_inputs` using the sizes of the input and z.\n",
    "\n",
    "Then, we'll create the generator, `generator(input_z, input_size)`. This builds the generator with the appropriate input and output sizes.\n",
    "\n",
    "Then the discriminators. We'll build two of them, one for real data and one for fake data. Since we want the weights to be the same for both real and fake data, we need to reuse the variables. For the fake data, we're getting it from the generator as `g_model`. So the real data discriminator is `discriminator(input_real)` while the fake discriminator is `discriminator(g_model, reuse=True)`.\n",
    "\n",
    ">**Exercise:** Build the network from the functions you defined earlier."
   ]
  },
  {
   "cell_type": "code",
   "execution_count": 14,
   "metadata": {},
   "outputs": [],
   "source": [
    "tf.reset_default_graph()\n",
    "# Create our input placeholders\n",
    "input_real, input_z = model_inputs(input_size, z_size)\n",
    "\n",
    "# Build the model\n",
    "g_model = generator(input_z, input_size, n_units=g_hidden_size, alpha=alpha)\n",
    "# g_model is the generator output\n",
    "\n",
    "d_model_real, d_logits_real = discriminator(input_real, n_units=d_hidden_size, alpha=alpha)\n",
    "d_model_fake, d_logits_fake = discriminator(g_model, reuse=True, n_units=d_hidden_size, alpha=alpha)"
   ]
  },
  {
   "cell_type": "markdown",
   "metadata": {},
   "source": [
    "## Discriminator and Generator Losses\n",
    "\n",
    "Now we need to calculate the losses, which is a little tricky. For the discriminator, the total loss is the sum of the losses for real and fake images, `d_loss = d_loss_real + d_loss_fake`. The losses will by sigmoid cross-entropies, which we can get with `tf.nn.sigmoid_cross_entropy_with_logits`. We'll also wrap that in `tf.reduce_mean` to get the mean for all the images in the batch. So the losses will look something like \n",
    "\n",
    "```python\n",
    "tf.reduce_mean(tf.nn.sigmoid_cross_entropy_with_logits(logits=logits, labels=labels))\n",
    "```\n",
    "\n",
    "For the real image logits, we'll use `d_logits_real` which we got from the discriminator in the cell above. For the labels, we want them to be all ones, since these are all real images. To help the discriminator generalize better, the labels are reduced a bit from 1.0 to 0.9, for example,  using the parameter `smooth`. This is known as label smoothing, typically used with classifiers to improve performance. In TensorFlow, it looks something like `labels = tf.ones_like(tensor) * (1 - smooth)`\n",
    "\n",
    "The discriminator loss for the fake data is similar. The logits are `d_logits_fake`, which we got from passing the generator output to the discriminator. These fake logits are used with labels of all zeros. Remember that we want the discriminator to output 1 for real images and 0 for fake images, so we need to set up the losses to reflect that.\n",
    "\n",
    "Finally, the generator losses are using `d_logits_fake`, the fake image logits. But, now the labels are all ones. The generator is trying to fool the discriminator, so it wants to discriminator to output ones for fake images.\n",
    "\n",
    ">**Exercise:** Calculate the losses for the discriminator and the generator. There are two discriminator losses, one for real images and one for fake images. For the real image loss, use the real logits and (smoothed) labels of ones. For the fake image loss, use the fake logits with labels of all zeros. The total discriminator loss is the sum of those two losses. Finally, the generator loss again uses the fake logits from the discriminator, but this time the labels are all ones because the generator wants to fool the discriminator."
   ]
  },
  {
   "cell_type": "code",
   "execution_count": 15,
   "metadata": {},
   "outputs": [],
   "source": [
    "# Calculate losses\n",
    "d_loss_real = tf.reduce_mean(\n",
    "                  tf.nn.sigmoid_cross_entropy_with_logits(logits=d_logits_real, \n",
    "                                                          labels=tf.ones_like(d_logits_real) * (1 - smooth)))\n",
    "d_loss_fake = tf.reduce_mean(\n",
    "                  tf.nn.sigmoid_cross_entropy_with_logits(logits=d_logits_fake, \n",
    "                                                          labels=tf.zeros_like(d_logits_real)))\n",
    "d_loss = d_loss_real + d_loss_fake\n",
    "\n",
    "g_loss = tf.reduce_mean(\n",
    "             tf.nn.sigmoid_cross_entropy_with_logits(logits=d_logits_fake,\n",
    "                                                     labels=tf.ones_like(d_logits_fake)))"
   ]
  },
  {
   "cell_type": "markdown",
   "metadata": {},
   "source": [
    "## Optimizers\n",
    "\n",
    "We want to update the generator and discriminator variables separately. So we need to get the variables for each part and build optimizers for the two parts. To get all the trainable variables, we use `tf.trainable_variables()`. This creates a list of all the variables we've defined in our graph.\n",
    "\n",
    "For the generator optimizer, we only want to generator variables. Our past selves were nice and used a variable scope to start all of our generator variable names with `generator`. So, we just need to iterate through the list from `tf.trainable_variables()` and keep variables that start with `generator`. Each variable object has an attribute `name` which holds the name of the variable as a string (`var.name == 'weights_0'` for instance). \n",
    "\n",
    "We can do something similar with the discriminator. All the variables in the discriminator start with `discriminator`.\n",
    "\n",
    "Then, in the optimizer we pass the variable lists to the `var_list` keyword argument of the `minimize` method. This tells the optimizer to only update the listed variables. Something like `tf.train.AdamOptimizer().minimize(loss, var_list=var_list)` will only train the variables in `var_list`.\n",
    "\n",
    ">**Exercise: ** Below, implement the optimizers for the generator and discriminator. First you'll need to get a list of trainable variables, then split that list into two lists, one for the generator variables and another for the discriminator variables. Finally, using `AdamOptimizer`, create an optimizer for each network that update the network variables separately."
   ]
  },
  {
   "cell_type": "code",
   "execution_count": 16,
   "metadata": {
    "scrolled": true
   },
   "outputs": [],
   "source": [
    "# Optimizers\n",
    "learning_rate = 0.002\n",
    "\n",
    "# Get the trainable_variables, split into G and D parts\n",
    "t_vars = tf.trainable_variables()\n",
    "g_vars = [var for var in t_vars if var.name.startswith('generator')]\n",
    "d_vars = [var for var in t_vars if var.name.startswith('discriminator')]\n",
    "\n",
    "d_train_opt = tf.train.AdamOptimizer(learning_rate).minimize(d_loss, var_list=d_vars)\n",
    "g_train_opt = tf.train.AdamOptimizer(learning_rate).minimize(g_loss, var_list=g_vars)"
   ]
  },
  {
   "cell_type": "markdown",
   "metadata": {},
   "source": [
    "## Training"
   ]
  },
  {
   "cell_type": "code",
   "execution_count": 17,
   "metadata": {
    "scrolled": true
   },
   "outputs": [
    {
     "name": "stdout",
     "output_type": "stream",
     "text": [
      "Epoch 1/100... Discriminator Loss: 2.0582... Generator Loss: 8.6468\n",
      "Epoch 2/100... Discriminator Loss: 0.6885... Generator Loss: 16.3458\n",
      "Epoch 3/100... Discriminator Loss: 0.4783... Generator Loss: 6.8400\n",
      "Epoch 4/100... Discriminator Loss: 2.4834... Generator Loss: 2.4864\n",
      "Epoch 5/100... Discriminator Loss: 1.7416... Generator Loss: 10.9980\n",
      "Epoch 6/100... Discriminator Loss: 0.8493... Generator Loss: 5.0673\n",
      "Epoch 7/100... Discriminator Loss: 0.8027... Generator Loss: 2.0111\n",
      "Epoch 8/100... Discriminator Loss: 1.8642... Generator Loss: 2.5609\n",
      "Epoch 9/100... Discriminator Loss: 1.7662... Generator Loss: 4.4798\n",
      "Epoch 10/100... Discriminator Loss: 1.2905... Generator Loss: 4.2560\n",
      "Epoch 11/100... Discriminator Loss: 0.6116... Generator Loss: 2.7684\n",
      "Epoch 12/100... Discriminator Loss: 1.0454... Generator Loss: 6.4491\n",
      "Epoch 13/100... Discriminator Loss: 0.9865... Generator Loss: 1.7827\n",
      "Epoch 14/100... Discriminator Loss: 0.7629... Generator Loss: 2.2174\n",
      "Epoch 15/100... Discriminator Loss: 0.6354... Generator Loss: 3.4793\n",
      "Epoch 16/100... Discriminator Loss: 0.7922... Generator Loss: 2.2958\n",
      "Epoch 17/100... Discriminator Loss: 0.6691... Generator Loss: 3.1368\n",
      "Epoch 18/100... Discriminator Loss: 0.7313... Generator Loss: 2.4174\n",
      "Epoch 19/100... Discriminator Loss: 0.7453... Generator Loss: 2.4509\n",
      "Epoch 20/100... Discriminator Loss: 0.6591... Generator Loss: 3.3945\n",
      "Epoch 21/100... Discriminator Loss: 0.6375... Generator Loss: 2.4296\n",
      "Epoch 22/100... Discriminator Loss: 0.7841... Generator Loss: 3.2054\n",
      "Epoch 23/100... Discriminator Loss: 0.7118... Generator Loss: 2.4734\n",
      "Epoch 24/100... Discriminator Loss: 0.7131... Generator Loss: 3.0851\n",
      "Epoch 25/100... Discriminator Loss: 0.7112... Generator Loss: 2.5497\n",
      "Epoch 26/100... Discriminator Loss: 0.6910... Generator Loss: 2.6417\n",
      "Epoch 27/100... Discriminator Loss: 0.7432... Generator Loss: 3.2371\n",
      "Epoch 28/100... Discriminator Loss: 0.7308... Generator Loss: 2.1251\n",
      "Epoch 29/100... Discriminator Loss: 0.8751... Generator Loss: 1.9483\n",
      "Epoch 30/100... Discriminator Loss: 0.7725... Generator Loss: 2.6020\n",
      "Epoch 31/100... Discriminator Loss: 0.7082... Generator Loss: 3.5224\n",
      "Epoch 32/100... Discriminator Loss: 0.7106... Generator Loss: 2.7263\n",
      "Epoch 33/100... Discriminator Loss: 0.7042... Generator Loss: 3.8184\n",
      "Epoch 34/100... Discriminator Loss: 0.7623... Generator Loss: 2.3170\n",
      "Epoch 35/100... Discriminator Loss: 0.7728... Generator Loss: 2.9385\n",
      "Epoch 36/100... Discriminator Loss: 0.6889... Generator Loss: 2.6492\n",
      "Epoch 37/100... Discriminator Loss: 0.7016... Generator Loss: 2.7313\n",
      "Epoch 38/100... Discriminator Loss: 0.7532... Generator Loss: 2.1777\n",
      "Epoch 39/100... Discriminator Loss: 0.6865... Generator Loss: 2.4424\n",
      "Epoch 40/100... Discriminator Loss: 0.6908... Generator Loss: 2.8410\n",
      "Epoch 41/100... Discriminator Loss: 0.7968... Generator Loss: 2.3814\n",
      "Epoch 42/100... Discriminator Loss: 0.7346... Generator Loss: 2.2413\n",
      "Epoch 43/100... Discriminator Loss: 0.7943... Generator Loss: 2.0088\n",
      "Epoch 44/100... Discriminator Loss: 0.7766... Generator Loss: 2.2196\n",
      "Epoch 45/100... Discriminator Loss: 0.7312... Generator Loss: 2.3756\n",
      "Epoch 46/100... Discriminator Loss: 0.8659... Generator Loss: 1.8896\n",
      "Epoch 47/100... Discriminator Loss: 0.7196... Generator Loss: 2.8329\n",
      "Epoch 48/100... Discriminator Loss: 0.7301... Generator Loss: 2.8665\n",
      "Epoch 49/100... Discriminator Loss: 0.7827... Generator Loss: 2.2622\n",
      "Epoch 50/100... Discriminator Loss: 0.7387... Generator Loss: 2.6486\n",
      "Epoch 51/100... Discriminator Loss: 0.7875... Generator Loss: 2.3531\n",
      "Epoch 52/100... Discriminator Loss: 0.7296... Generator Loss: 2.7456\n",
      "Epoch 53/100... Discriminator Loss: 0.7853... Generator Loss: 2.3278\n",
      "Epoch 54/100... Discriminator Loss: 0.7289... Generator Loss: 2.5388\n",
      "Epoch 55/100... Discriminator Loss: 0.8341... Generator Loss: 2.2990\n",
      "Epoch 56/100... Discriminator Loss: 0.8830... Generator Loss: 1.7804\n",
      "Epoch 57/100... Discriminator Loss: 0.7937... Generator Loss: 2.6781\n",
      "Epoch 58/100... Discriminator Loss: 0.8126... Generator Loss: 2.0687\n",
      "Epoch 59/100... Discriminator Loss: 0.8398... Generator Loss: 2.1039\n",
      "Epoch 60/100... Discriminator Loss: 0.8592... Generator Loss: 2.8389\n",
      "Epoch 61/100... Discriminator Loss: 0.7925... Generator Loss: 2.3521\n",
      "Epoch 62/100... Discriminator Loss: 0.6869... Generator Loss: 2.5026\n",
      "Epoch 63/100... Discriminator Loss: 0.7607... Generator Loss: 2.7457\n",
      "Epoch 64/100... Discriminator Loss: 0.7131... Generator Loss: 2.5052\n",
      "Epoch 65/100... Discriminator Loss: 0.7709... Generator Loss: 2.5641\n",
      "Epoch 66/100... Discriminator Loss: 0.7012... Generator Loss: 2.6642\n",
      "Epoch 67/100... Discriminator Loss: 0.7560... Generator Loss: 2.2789\n",
      "Epoch 68/100... Discriminator Loss: 0.7677... Generator Loss: 2.5972\n",
      "Epoch 69/100... Discriminator Loss: 0.9265... Generator Loss: 2.0870\n",
      "Epoch 70/100... Discriminator Loss: 0.7541... Generator Loss: 2.7013\n",
      "Epoch 71/100... Discriminator Loss: 0.7390... Generator Loss: 2.3412\n",
      "Epoch 72/100... Discriminator Loss: 0.7833... Generator Loss: 2.6142\n",
      "Epoch 73/100... Discriminator Loss: 0.7170... Generator Loss: 2.6156\n",
      "Epoch 74/100... Discriminator Loss: 0.6144... Generator Loss: 2.4867\n",
      "Epoch 75/100... Discriminator Loss: 0.6765... Generator Loss: 2.5605\n",
      "Epoch 76/100... Discriminator Loss: 0.7271... Generator Loss: 2.5199\n",
      "Epoch 77/100... Discriminator Loss: 0.6277... Generator Loss: 2.9468\n",
      "Epoch 78/100... Discriminator Loss: 0.7090... Generator Loss: 3.0305\n",
      "Epoch 79/100... Discriminator Loss: 0.8112... Generator Loss: 2.7919\n",
      "Epoch 80/100... Discriminator Loss: 0.7051... Generator Loss: 2.7889\n",
      "Epoch 81/100... Discriminator Loss: 0.8020... Generator Loss: 2.8031\n",
      "Epoch 82/100... Discriminator Loss: 0.6560... Generator Loss: 2.9381\n",
      "Epoch 83/100... Discriminator Loss: 0.6742... Generator Loss: 2.6594\n",
      "Epoch 84/100... Discriminator Loss: 0.7289... Generator Loss: 2.7539\n",
      "Epoch 85/100... Discriminator Loss: 0.7531... Generator Loss: 2.9597\n",
      "Epoch 86/100... Discriminator Loss: 0.7278... Generator Loss: 2.4944\n",
      "Epoch 87/100... Discriminator Loss: 0.6085... Generator Loss: 2.8739\n",
      "Epoch 88/100... Discriminator Loss: 0.7069... Generator Loss: 2.8664\n",
      "Epoch 89/100... Discriminator Loss: 0.7331... Generator Loss: 2.7172\n",
      "Epoch 90/100... Discriminator Loss: 0.6582... Generator Loss: 3.5116\n",
      "Epoch 91/100... Discriminator Loss: 0.7149... Generator Loss: 3.3058\n",
      "Epoch 92/100... Discriminator Loss: 0.6087... Generator Loss: 3.0700\n",
      "Epoch 93/100... Discriminator Loss: 0.7377... Generator Loss: 2.6903\n",
      "Epoch 94/100... Discriminator Loss: 0.6168... Generator Loss: 2.7513\n",
      "Epoch 95/100... Discriminator Loss: 0.7125... Generator Loss: 2.9529\n",
      "Epoch 96/100... Discriminator Loss: 0.6498... Generator Loss: 2.5866\n",
      "Epoch 97/100... Discriminator Loss: 0.5993... Generator Loss: 3.7021\n",
      "Epoch 98/100... Discriminator Loss: 0.6584... Generator Loss: 2.5296\n",
      "Epoch 99/100... Discriminator Loss: 0.6792... Generator Loss: 3.3997\n",
      "Epoch 100/100... Discriminator Loss: 0.6679... Generator Loss: 2.4479\n"
     ]
    }
   ],
   "source": [
    "batch_size = 100\n",
    "epochs = 100\n",
    "samples = []\n",
    "losses = []\n",
    "saver = tf.train.Saver(var_list = g_vars)\n",
    "with tf.Session() as sess:\n",
    "    sess.run(tf.global_variables_initializer())\n",
    "    for e in range(epochs):\n",
    "        for ii in range(mnist.train.num_examples//batch_size):\n",
    "            batch = mnist.train.next_batch(batch_size)\n",
    "            \n",
    "            # Get images, reshape and rescale to pass to D\n",
    "            batch_images = batch[0].reshape((batch_size, 784))\n",
    "            batch_images = batch_images*2 - 1\n",
    "            \n",
    "            # Sample random noise for G\n",
    "            batch_z = np.random.uniform(-1, 1, size=(batch_size, z_size))\n",
    "            \n",
    "            # Run optimizers\n",
    "            _ = sess.run(d_train_opt, feed_dict={input_real: batch_images, input_z: batch_z})\n",
    "            _ = sess.run(g_train_opt, feed_dict={input_z: batch_z})\n",
    "        \n",
    "        # At the end of each epoch, get the losses and print them out\n",
    "        train_loss_d = sess.run(d_loss, {input_z: batch_z, input_real: batch_images})\n",
    "        train_loss_g = g_loss.eval({input_z: batch_z})\n",
    "            \n",
    "        print(\"Epoch {}/{}...\".format(e+1, epochs),\n",
    "              \"Discriminator Loss: {:.4f}...\".format(train_loss_d),\n",
    "              \"Generator Loss: {:.4f}\".format(train_loss_g))    \n",
    "        # Save losses to view after training\n",
    "        losses.append((train_loss_d, train_loss_g))\n",
    "        \n",
    "        # Sample from generator as we're training for viewing afterwards\n",
    "        sample_z = np.random.uniform(-1, 1, size=(16, z_size))\n",
    "        gen_samples = sess.run(\n",
    "                       generator(input_z, input_size, n_units=g_hidden_size, reuse=True, alpha=alpha),\n",
    "                       feed_dict={input_z: sample_z})\n",
    "        samples.append(gen_samples)\n",
    "        saver.save(sess, './checkpoints/generator.ckpt')\n",
    "\n",
    "# Save training generator samples\n",
    "with open('train_samples.pkl', 'wb') as f:\n",
    "    pkl.dump(samples, f)"
   ]
  },
  {
   "cell_type": "markdown",
   "metadata": {},
   "source": [
    "## Training loss\n",
    "\n",
    "Here we'll check out the training losses for the generator and discriminator."
   ]
  },
  {
   "cell_type": "code",
   "execution_count": 18,
   "metadata": {},
   "outputs": [],
   "source": [
    "%matplotlib inline\n",
    "\n",
    "import matplotlib.pyplot as plt"
   ]
  },
  {
   "cell_type": "code",
   "execution_count": 19,
   "metadata": {},
   "outputs": [
    {
     "name": "stdout",
     "output_type": "stream",
     "text": [
      "[[  2.05816579   8.646842  ]\n",
      " [  0.68847454  16.34578323]\n",
      " [  0.4782964    6.83996725]\n",
      " [  2.48335934   2.48642278]\n",
      " [  1.74159336  10.99802399]\n",
      " [  0.84931296   5.06733561]\n",
      " [  0.80272716   2.01110506]\n",
      " [  1.8642242    2.56090331]\n",
      " [  1.76620936   4.47984362]\n",
      " [  1.29047453   4.25600767]\n",
      " [  0.61155069   2.76839471]\n",
      " [  1.04537773   6.44907522]\n",
      " [  0.98650742   1.78266311]\n",
      " [  0.76286095   2.2174468 ]\n",
      " [  0.63536954   3.47932577]\n",
      " [  0.79221398   2.2957871 ]\n",
      " [  0.66906267   3.1368134 ]\n",
      " [  0.73129481   2.41741753]\n",
      " [  0.74533039   2.45087981]\n",
      " [  0.65911812   3.39450002]\n",
      " [  0.63748711   2.429564  ]\n",
      " [  0.78409737   3.20537591]\n",
      " [  0.71178788   2.47339821]\n",
      " [  0.71308553   3.08509088]\n",
      " [  0.71123433   2.54971623]\n",
      " [  0.6909976    2.64167356]\n",
      " [  0.74318373   3.23709393]\n",
      " [  0.73077428   2.12510204]\n",
      " [  0.87506664   1.94827032]\n",
      " [  0.77247047   2.60203624]\n",
      " [  0.70816338   3.52238703]\n",
      " [  0.71059096   2.72633243]\n",
      " [  0.70424193   3.81844521]\n",
      " [  0.76232815   2.31696081]\n",
      " [  0.77283138   2.93846059]\n",
      " [  0.68894362   2.64920783]\n",
      " [  0.70163167   2.73129177]\n",
      " [  0.75319195   2.17772532]\n",
      " [  0.68649966   2.44238853]\n",
      " [  0.69080627   2.84102917]\n",
      " [  0.79676515   2.38140655]\n",
      " [  0.73460114   2.24129415]\n",
      " [  0.79432428   2.00879169]\n",
      " [  0.77661026   2.21963954]\n",
      " [  0.7312476    2.37555289]\n",
      " [  0.86586231   1.88956892]\n",
      " [  0.7196359    2.83286428]\n",
      " [  0.73010612   2.86652231]\n",
      " [  0.78265572   2.26215839]\n",
      " [  0.73873705   2.648633  ]\n",
      " [  0.78750581   2.35311246]\n",
      " [  0.7295903    2.74556303]\n",
      " [  0.78533733   2.32778263]\n",
      " [  0.72892082   2.53876138]\n",
      " [  0.83406389   2.29895687]\n",
      " [  0.88304663   1.78039825]\n",
      " [  0.79365039   2.67808771]\n",
      " [  0.81261319   2.06868196]\n",
      " [  0.83975565   2.10385108]\n",
      " [  0.85917318   2.83886743]\n",
      " [  0.79250562   2.35212135]\n",
      " [  0.68688077   2.50258851]\n",
      " [  0.76066661   2.74573374]\n",
      " [  0.71309716   2.50518227]\n",
      " [  0.77091765   2.56405067]\n",
      " [  0.70115799   2.66423941]\n",
      " [  0.75603497   2.27893925]\n",
      " [  0.76768905   2.59720278]\n",
      " [  0.92647278   2.08695197]\n",
      " [  0.75411242   2.70127082]\n",
      " [  0.73898208   2.34124947]\n",
      " [  0.78334683   2.61418676]\n",
      " [  0.71697319   2.61557961]\n",
      " [  0.61435229   2.48671627]\n",
      " [  0.67652863   2.56052852]\n",
      " [  0.72714299   2.51986504]\n",
      " [  0.62765753   2.94684362]\n",
      " [  0.70902687   3.03052735]\n",
      " [  0.81118739   2.79189324]\n",
      " [  0.70508069   2.78885078]\n",
      " [  0.80196917   2.80313301]\n",
      " [  0.65600252   2.93807507]\n",
      " [  0.67420232   2.65941978]\n",
      " [  0.72887373   2.75387692]\n",
      " [  0.75308287   2.95974708]\n",
      " [  0.72777849   2.49441075]\n",
      " [  0.60847718   2.87388611]\n",
      " [  0.70686334   2.86637545]\n",
      " [  0.73308164   2.71716619]\n",
      " [  0.65819335   3.51159239]\n",
      " [  0.71493626   3.30582714]\n",
      " [  0.60867631   3.07003546]\n",
      " [  0.7377243    2.69033885]\n",
      " [  0.61683643   2.75132751]\n",
      " [  0.71253407   2.95287776]\n",
      " [  0.64975691   2.58658385]\n",
      " [  0.59933984   3.70209694]\n",
      " [  0.65844774   2.52960563]\n",
      " [  0.67922187   3.39974403]\n",
      " [  0.66791731   2.44789028]]\n"
     ]
    },
    {
     "data": {
      "text/plain": [
       "<matplotlib.legend.Legend at 0x1d8804498d0>"
      ]
     },
     "execution_count": 19,
     "metadata": {},
     "output_type": "execute_result"
    },
    {
     "data": {
      "image/png": "[encoded data removed]",
      "text/plain": [
       "<matplotlib.figure.Figure at 0x1d8d292cf60>"
      ]
     },
     "metadata": {},
     "output_type": "display_data"
    }
   ],
   "source": [
    "fig, ax = plt.subplots()\n",
    "losses = np.array(losses)\n",
    "print(losses)\n",
    "plt.plot(losses.T[0], label='Discriminator')\n",
    "plt.plot(losses.T[1], label='Generator')\n",
    "plt.title(\"Training Losses\")\n",
    "plt.legend()"
   ]
  },
  {
   "cell_type": "markdown",
   "metadata": {},
   "source": [
    "## Generator samples from training\n",
    "\n",
    "Here we can view samples of images from the generator. First we'll look at images taken while training."
   ]
  },
  {
   "cell_type": "code",
   "execution_count": 20,
   "metadata": {},
   "outputs": [],
   "source": [
    "def view_samples(epoch, samples):\n",
    "    fig, axes = plt.subplots(figsize=(7,7), nrows=4, ncols=4, sharey=True, sharex=True)\n",
    "    for ax, img in zip(axes.flatten(), samples[epoch]):\n",
    "        ax.xaxis.set_visible(False)\n",
    "        ax.yaxis.set_visible(False)\n",
    "        im = ax.imshow(img.reshape((28,28)), cmap='Greys_r')\n",
    "    \n",
    "    return fig, axes"
   ]
  },
  {
   "cell_type": "code",
   "execution_count": 21,
   "metadata": {},
   "outputs": [],
   "source": [
    "# Load samples from generator taken while training\n",
    "with open('train_samples.pkl', 'rb') as f:\n",
    "    samples = pkl.load(f)"
   ]
  },
  {
   "cell_type": "markdown",
   "metadata": {},
   "source": [
    "These are samples from the final training epoch. You can see the generator is able to reproduce numbers like 5, 7, 3, 0, 9. Since this is just a sample, it isn't representative of the full range of images this generator can make."
   ]
  },
  {
   "cell_type": "code",
   "execution_count": 22,
   "metadata": {},
   "outputs": [
    {
     "data": {
      "image/png": "[encoded data removed]",
      "text/plain": [
       "<matplotlib.figure.Figure at 0x1d8d5addc50>"
      ]
     },
     "metadata": {},
     "output_type": "display_data"
    }
   ],
   "source": [
    "_ = view_samples(-1, samples)"
   ]
  },
  {
   "cell_type": "markdown",
   "metadata": {},
   "source": [
    "Below I'm showing the generated images as the network was training, every 10 epochs. With bonus optical illusion!"
   ]
  },
  {
   "cell_type": "code",
   "execution_count": 23,
   "metadata": {},
   "outputs": [
    {
     "data": {
      "image/png": "[encoded data removed]",
      "text/plain": [
       "<matplotlib.figure.Figure at 0x1d880104ba8>"
      ]
     },
     "metadata": {},
     "output_type": "display_data"
    }
   ],
   "source": [
    "rows, cols = 10, 6\n",
    "fig, axes = plt.subplots(figsize=(7,12), nrows=rows, ncols=cols, sharex=True, sharey=True)\n",
    "\n",
    "for sample, ax_row in zip(samples[::int(len(samples)/rows)], axes):\n",
    "    for img, ax in zip(sample[::int(len(sample)/cols)], ax_row):\n",
    "        ax.imshow(img.reshape((28,28)), cmap='Greys_r')\n",
    "        ax.xaxis.set_visible(False)\n",
    "        ax.yaxis.set_visible(False)"
   ]
  },
  {
   "cell_type": "markdown",
   "metadata": {},
   "source": [
    "It starts out as all noise. Then it learns to make only the center white and the rest black. You can start to see some number like structures appear out of the noise. Looks like 1, 9, and 8 show up first. Then, it learns 5 and 3."
   ]
  },
  {
   "cell_type": "markdown",
   "metadata": {},
   "source": [
    "## Sampling from the generator\n",
    "\n",
    "We can also get completely new images from the generator by using the checkpoint we saved after training. We just need to pass in a new latent vector $z$ and we'll get new samples!"
   ]
  },
  {
   "cell_type": "code",
   "execution_count": 24,
   "metadata": {},
   "outputs": [
    {
     "name": "stdout",
     "output_type": "stream",
     "text": [
      "INFO:tensorflow:Restoring parameters from checkpoints\\generator.ckpt\n"
     ]
    },
    {
     "data": {
      "text/plain": [
       "(<matplotlib.figure.Figure at 0x1d8d29246a0>,\n",
       " array([[<matplotlib.axes._subplots.AxesSubplot object at 0x000001D881D5C208>,\n",
       "         <matplotlib.axes._subplots.AxesSubplot object at 0x000001D881A0A128>,\n",
       "         <matplotlib.axes._subplots.AxesSubplot object at 0x000001D881BEEDD8>,\n",
       "         <matplotlib.axes._subplots.AxesSubplot object at 0x000001D8819D1CF8>],\n",
       "        [<matplotlib.axes._subplots.AxesSubplot object at 0x000001D8803D2A90>,\n",
       "         <matplotlib.axes._subplots.AxesSubplot object at 0x000001D8D319C7B8>,\n",
       "         <matplotlib.axes._subplots.AxesSubplot object at 0x000001D881CF1518>,\n",
       "         <matplotlib.axes._subplots.AxesSubplot object at 0x000001D881D06E48>],\n",
       "        [<matplotlib.axes._subplots.AxesSubplot object at 0x000001D8818B9898>,\n",
       "         <matplotlib.axes._subplots.AxesSubplot object at 0x000001D881A745F8>,\n",
       "         <matplotlib.axes._subplots.AxesSubplot object at 0x000001D881A54F98>,\n",
       "         <matplotlib.axes._subplots.AxesSubplot object at 0x000001D8D339F198>],\n",
       "        [<matplotlib.axes._subplots.AxesSubplot object at 0x000001D88074D5F8>,\n",
       "         <matplotlib.axes._subplots.AxesSubplot object at 0x000001D8D276C7B8>,\n",
       "         <matplotlib.axes._subplots.AxesSubplot object at 0x000001D8D5A32518>,\n",
       "         <matplotlib.axes._subplots.AxesSubplot object at 0x000001D881F18278>]], dtype=object))"
      ]
     },
     "execution_count": 24,
     "metadata": {},
     "output_type": "execute_result"
    },
    {
     "data": {
      "image/png": "[encoded data removed]",
      "text/plain": [
       "<matplotlib.figure.Figure at 0x1d8d29246a0>"
      ]
     },
     "metadata": {},
     "output_type": "display_data"
    }
   ],
   "source": [
    "saver = tf.train.Saver(var_list=g_vars)\n",
    "with tf.Session() as sess:\n",
    "    saver.restore(sess, tf.train.latest_checkpoint('checkpoints'))\n",
    "    sample_z = np.random.uniform(-1, 1, size=(16, z_size))\n",
    "    gen_samples = sess.run(\n",
    "                   generator(input_z, input_size, n_units=g_hidden_size, reuse=True, alpha=alpha),\n",
    "                   feed_dict={input_z: sample_z})\n",
    "view_samples(0, [gen_samples])"
   ]
  },
  {
   "cell_type": "code",
   "execution_count": null,
   "metadata": {},
   "outputs": [],
   "source": []
  }
 ],
 "metadata": {
  "kernelspec": {
   "display_name": "Python 3",
   "language": "python",
   "name": "python3"
  },
  "language_info": {
   "codemirror_mode": {
    "name": "ipython",
    "version": 3
   },
   "file_extension": ".py",
   "mimetype": "text/x-python",
   "name": "python",
   "nbconvert_exporter": "python",
   "pygments_lexer": "ipython3",
   "version": "3.6.3"
  }
 },
 "nbformat": 4,
 "nbformat_minor": 2
}
